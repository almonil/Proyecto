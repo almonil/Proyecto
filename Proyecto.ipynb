{
  "nbformat": 4,
  "nbformat_minor": 0,
  "metadata": {
    "colab": {
      "name": "Proyectos (1).ipynb",
      "provenance": [],
      "collapsed_sections": [],
      "include_colab_link": true
    },
    "kernelspec": {
      "name": "python3",
      "display_name": "Python 3"
    },
    "language_info": {
      "name": "python"
    }
  },
  "cells": [
    {
      "cell_type": "markdown",
      "metadata": {
        "id": "view-in-github",
        "colab_type": "text"
      },
      "source": [
        "<a href=\"https://colab.research.google.com/github/almonil/Proyecto/blob/main/Proyecto.ipynb\" target=\"_parent\"><img src=\"https://colab.research.google.com/assets/colab-badge.svg\" alt=\"Open In Colab\"/></a>"
      ]
    },
    {
      "cell_type": "markdown",
      "metadata": {
        "id": "MtZ_IrJcLdMK"
      },
      "source": [
        "Proyecto\n",
        "\n",
        "\n"
      ]
    },
    {
      "cell_type": "markdown",
      "metadata": {
        "id": "I520lMVHWSWb"
      },
      "source": [
        "Se importan las librerias"
      ]
    },
    {
      "cell_type": "code",
      "metadata": {
        "id": "-f__Ioyc1h7d"
      },
      "source": [
        "import numpy as np\n",
        "import pandas as pd\n",
        "import seaborn as sns\n",
        "import matplotlib.pyplot as plt\n",
        "from sklearn.model_selection import train_test_split\n",
        "from sklearn.linear_model import LogisticRegression\n",
        "from sklearn.metrics import accuracy_score\n",
        "from keras.layers import Input, Dense\n",
        "from keras.models import Model, load_model\n",
        "from sklearn import metrics\n",
        "from sklearn.preprocessing import StandardScaler\n",
        "from keras.models import Model, load_model\n",
        "import matplotlib.ticker as ticker\n",
        "import warnings\n",
        "warnings.filterwarnings(\"ignore\")"
      ],
      "execution_count": null,
      "outputs": []
    },
    {
      "cell_type": "markdown",
      "metadata": {
        "id": "bENQsOVeWXGS"
      },
      "source": [
        "Se carga el archivo de datos a manejar en este caso Credit_data.csv"
      ]
    },
    {
      "cell_type": "code",
      "metadata": {
        "id": "Xk--ayku4n3Y"
      },
      "source": [
        "#Se carga el dataset a pandas dataframe\n",
        "df= pd.read_csv('/content/credit_data.csv', delimiter=',')\n",
        "\n"
      ],
      "execution_count": null,
      "outputs": []
    },
    {
      "cell_type": "markdown",
      "metadata": {
        "id": "sFCDwbmuWcum"
      },
      "source": [
        "Preprocesamiento de datos.\n",
        "\n",
        "Aqui se ven ejemplos del dataframe y el uso de distintas librerias."
      ]
    },
    {
      "cell_type": "markdown",
      "metadata": {
        "id": "MXbSTKcJWm6o"
      },
      "source": [
        "Ver los 5 mejores registros"
      ]
    },
    {
      "cell_type": "code",
      "metadata": {
        "colab": {
          "base_uri": "https://localhost:8080/",
          "height": 220
        },
        "id": "jduLhtUD5mvM",
        "outputId": "20a921f7-4cdf-4922-d6fe-711c6ae90da6"
      },
      "source": [
        "df.head()\n"
      ],
      "execution_count": null,
      "outputs": [
        {
          "output_type": "execute_result",
          "data": {
            "text/html": [
              "<div>\n",
              "<style scoped>\n",
              "    .dataframe tbody tr th:only-of-type {\n",
              "        vertical-align: middle;\n",
              "    }\n",
              "\n",
              "    .dataframe tbody tr th {\n",
              "        vertical-align: top;\n",
              "    }\n",
              "\n",
              "    .dataframe thead th {\n",
              "        text-align: right;\n",
              "    }\n",
              "</style>\n",
              "<table border=\"1\" class=\"dataframe\">\n",
              "  <thead>\n",
              "    <tr style=\"text-align: right;\">\n",
              "      <th></th>\n",
              "      <th>V1</th>\n",
              "      <th>V2</th>\n",
              "      <th>V3</th>\n",
              "      <th>V4</th>\n",
              "      <th>V5</th>\n",
              "      <th>V6</th>\n",
              "      <th>V7</th>\n",
              "      <th>V8</th>\n",
              "      <th>V9</th>\n",
              "      <th>V10</th>\n",
              "      <th>V11</th>\n",
              "      <th>V12</th>\n",
              "      <th>V13</th>\n",
              "      <th>V14</th>\n",
              "      <th>V15</th>\n",
              "      <th>V16</th>\n",
              "      <th>V17</th>\n",
              "      <th>V18</th>\n",
              "      <th>V19</th>\n",
              "      <th>V20</th>\n",
              "      <th>V21</th>\n",
              "      <th>V22</th>\n",
              "      <th>V23</th>\n",
              "      <th>V24</th>\n",
              "      <th>V25</th>\n",
              "      <th>V26</th>\n",
              "      <th>V27</th>\n",
              "      <th>V28</th>\n",
              "      <th>Class</th>\n",
              "      <th>scaled_amount</th>\n",
              "      <th>scaled_time</th>\n",
              "    </tr>\n",
              "  </thead>\n",
              "  <tbody>\n",
              "    <tr>\n",
              "      <th>0</th>\n",
              "      <td>-1.360</td>\n",
              "      <td>-0.073</td>\n",
              "      <td>2.536</td>\n",
              "      <td>1.378</td>\n",
              "      <td>-0.338</td>\n",
              "      <td>0.462</td>\n",
              "      <td>0.240</td>\n",
              "      <td>0.099</td>\n",
              "      <td>0.364</td>\n",
              "      <td>0.091</td>\n",
              "      <td>-0.552</td>\n",
              "      <td>-0.618</td>\n",
              "      <td>-0.991</td>\n",
              "      <td>-0.311</td>\n",
              "      <td>1.468</td>\n",
              "      <td>-0.470</td>\n",
              "      <td>0.208</td>\n",
              "      <td>0.026</td>\n",
              "      <td>0.404</td>\n",
              "      <td>0.251</td>\n",
              "      <td>-0.018</td>\n",
              "      <td>0.278</td>\n",
              "      <td>-0.110</td>\n",
              "      <td>0.067</td>\n",
              "      <td>0.129</td>\n",
              "      <td>-0.189</td>\n",
              "      <td>0.134</td>\n",
              "      <td>-0.021</td>\n",
              "      <td>0.0</td>\n",
              "      <td>1.610</td>\n",
              "      <td>-1.951</td>\n",
              "    </tr>\n",
              "    <tr>\n",
              "      <th>1</th>\n",
              "      <td>1.192</td>\n",
              "      <td>0.266</td>\n",
              "      <td>0.166</td>\n",
              "      <td>0.448</td>\n",
              "      <td>0.060</td>\n",
              "      <td>-0.082</td>\n",
              "      <td>-0.079</td>\n",
              "      <td>0.085</td>\n",
              "      <td>-0.255</td>\n",
              "      <td>-0.167</td>\n",
              "      <td>1.613</td>\n",
              "      <td>1.065</td>\n",
              "      <td>0.489</td>\n",
              "      <td>-0.144</td>\n",
              "      <td>0.636</td>\n",
              "      <td>0.464</td>\n",
              "      <td>-0.115</td>\n",
              "      <td>-0.183</td>\n",
              "      <td>-0.146</td>\n",
              "      <td>-0.069</td>\n",
              "      <td>-0.226</td>\n",
              "      <td>-0.639</td>\n",
              "      <td>0.101</td>\n",
              "      <td>-0.340</td>\n",
              "      <td>0.167</td>\n",
              "      <td>0.126</td>\n",
              "      <td>-0.009</td>\n",
              "      <td>0.015</td>\n",
              "      <td>0.0</td>\n",
              "      <td>-0.288</td>\n",
              "      <td>-1.951</td>\n",
              "    </tr>\n",
              "    <tr>\n",
              "      <th>2</th>\n",
              "      <td>-1.358</td>\n",
              "      <td>-1.340</td>\n",
              "      <td>1.773</td>\n",
              "      <td>0.380</td>\n",
              "      <td>-0.503</td>\n",
              "      <td>1.800</td>\n",
              "      <td>0.791</td>\n",
              "      <td>0.248</td>\n",
              "      <td>-1.515</td>\n",
              "      <td>0.208</td>\n",
              "      <td>0.625</td>\n",
              "      <td>0.066</td>\n",
              "      <td>0.717</td>\n",
              "      <td>-0.166</td>\n",
              "      <td>2.346</td>\n",
              "      <td>-2.890</td>\n",
              "      <td>1.110</td>\n",
              "      <td>-0.121</td>\n",
              "      <td>-2.262</td>\n",
              "      <td>0.525</td>\n",
              "      <td>0.248</td>\n",
              "      <td>0.772</td>\n",
              "      <td>0.909</td>\n",
              "      <td>-0.689</td>\n",
              "      <td>-0.328</td>\n",
              "      <td>-0.139</td>\n",
              "      <td>-0.055</td>\n",
              "      <td>-0.060</td>\n",
              "      <td>0.0</td>\n",
              "      <td>4.570</td>\n",
              "      <td>-1.950</td>\n",
              "    </tr>\n",
              "    <tr>\n",
              "      <th>3</th>\n",
              "      <td>-0.966</td>\n",
              "      <td>-0.185</td>\n",
              "      <td>1.793</td>\n",
              "      <td>-0.863</td>\n",
              "      <td>-0.010</td>\n",
              "      <td>1.247</td>\n",
              "      <td>0.238</td>\n",
              "      <td>0.377</td>\n",
              "      <td>-1.387</td>\n",
              "      <td>-0.055</td>\n",
              "      <td>-0.226</td>\n",
              "      <td>0.178</td>\n",
              "      <td>0.508</td>\n",
              "      <td>-0.288</td>\n",
              "      <td>-0.631</td>\n",
              "      <td>-1.060</td>\n",
              "      <td>-0.684</td>\n",
              "      <td>1.966</td>\n",
              "      <td>-1.233</td>\n",
              "      <td>-0.208</td>\n",
              "      <td>-0.108</td>\n",
              "      <td>0.005</td>\n",
              "      <td>-0.190</td>\n",
              "      <td>-1.176</td>\n",
              "      <td>0.647</td>\n",
              "      <td>-0.222</td>\n",
              "      <td>0.063</td>\n",
              "      <td>0.061</td>\n",
              "      <td>0.0</td>\n",
              "      <td>1.273</td>\n",
              "      <td>-1.950</td>\n",
              "    </tr>\n",
              "    <tr>\n",
              "      <th>4</th>\n",
              "      <td>-1.158</td>\n",
              "      <td>0.878</td>\n",
              "      <td>1.549</td>\n",
              "      <td>0.403</td>\n",
              "      <td>-0.407</td>\n",
              "      <td>0.096</td>\n",
              "      <td>0.593</td>\n",
              "      <td>-0.271</td>\n",
              "      <td>0.818</td>\n",
              "      <td>0.753</td>\n",
              "      <td>-0.823</td>\n",
              "      <td>0.538</td>\n",
              "      <td>1.346</td>\n",
              "      <td>-1.120</td>\n",
              "      <td>0.175</td>\n",
              "      <td>-0.451</td>\n",
              "      <td>-0.237</td>\n",
              "      <td>-0.038</td>\n",
              "      <td>0.803</td>\n",
              "      <td>0.409</td>\n",
              "      <td>-0.009</td>\n",
              "      <td>0.798</td>\n",
              "      <td>-0.137</td>\n",
              "      <td>0.141</td>\n",
              "      <td>-0.206</td>\n",
              "      <td>0.502</td>\n",
              "      <td>0.219</td>\n",
              "      <td>0.215</td>\n",
              "      <td>0.0</td>\n",
              "      <td>0.581</td>\n",
              "      <td>-1.950</td>\n",
              "    </tr>\n",
              "  </tbody>\n",
              "</table>\n",
              "</div>"
            ],
            "text/plain": [
              "      V1     V2     V3     V4  ...    V28  Class  scaled_amount  scaled_time\n",
              "0 -1.360 -0.073  2.536  1.378  ... -0.021    0.0          1.610       -1.951\n",
              "1  1.192  0.266  0.166  0.448  ...  0.015    0.0         -0.288       -1.951\n",
              "2 -1.358 -1.340  1.773  0.380  ... -0.060    0.0          4.570       -1.950\n",
              "3 -0.966 -0.185  1.793 -0.863  ...  0.061    0.0          1.273       -1.950\n",
              "4 -1.158  0.878  1.549  0.403  ...  0.215    0.0          0.581       -1.950\n",
              "\n",
              "[5 rows x 31 columns]"
            ]
          },
          "metadata": {},
          "execution_count": 21
        }
      ]
    },
    {
      "cell_type": "markdown",
      "metadata": {
        "id": "aLU1a7wlYKUv"
      },
      "source": [
        "determinar el número de registros en el conjunto de datos"
      ]
    },
    {
      "cell_type": "code",
      "metadata": {
        "colab": {
          "base_uri": "https://localhost:8080/"
        },
        "id": "obbbXdB_X26c",
        "outputId": "436613f7-9533-4c69-9da2-43ba486ea835"
      },
      "source": [
        "print('El dataset contiene {0} filas and {1} columnas.'.format(df.shape[0], df.shape[1]))"
      ],
      "execution_count": null,
      "outputs": [
        {
          "output_type": "stream",
          "name": "stdout",
          "text": [
            "El dataset contiene 49610 filas and 31 columnas.\n"
          ]
        }
      ]
    },
    {
      "cell_type": "markdown",
      "metadata": {
        "id": "q5JadYOSKuC2"
      },
      "source": [
        "\n",
        "\n",
        "Las características ya están escaladas y los nombres de las características no se muestran por razones de privacidad.\n",
        "\n",
        "\n",
        "Ahora, veamos cuántas de las transacciones son fraudulentas."
      ]
    },
    {
      "cell_type": "markdown",
      "metadata": {
        "id": "7MjT6v2MMa2D"
      },
      "source": [
        "loc localiza todos los datos por columna o declaración condicional\n"
      ]
    },
    {
      "cell_type": "code",
      "metadata": {
        "colab": {
          "base_uri": "https://localhost:8080/"
        },
        "id": "9arVdloiI-zu",
        "outputId": "b1c03da5-8565-4f8f-e8ea-fde709017581"
      },
      "source": [
        "\n",
        "fraudes = df.loc[df['Class'] == 1] # Encontrar todas las fillas del fraude\n",
        "non_fraudes = df.loc[df['Class'] == 0] # final all rows that aren't fraudulent\n",
        "print('Fraudes ', len(fraudes), '  transacciones realizadas  ', round(df['Class'].value_counts()[0]/len(df)*100, 2), '% of the dataset')\n",
        "print('No Fraudes ', len(non_fraudes), '  transacciones realizadas  ', round(df['Class'].value_counts()[1]/len(df)*100, 2), '% of the dataset')"
      ],
      "execution_count": null,
      "outputs": [
        {
          "output_type": "stream",
          "name": "stdout",
          "text": [
            "Fraudes  148   transacciones realizadas   99.7 % of the dataset\n",
            "No Fraudes  49461   transacciones realizadas   0.3 % of the dataset\n"
          ]
        }
      ]
    },
    {
      "cell_type": "markdown",
      "metadata": {
        "id": "ayyBpR6DMscC"
      },
      "source": [
        "Sólo 492 de las transacciones son fraudulentas. Esto significa que el conjunto de datos está bastante desequilibrado; el 99,83% de las transacciones son normales. Los casos de fraude son anomalías y, por tanto, nuestro modelo realizará una detección de anomalías para averiguar qué transacciones son fraudulentas.\n",
        "\n",
        "No queremos utilizar este marco de datos como base para nuestros modelos predictivos y análisis porque obtendremos muchos errores y nuestro modelo se sobreajustará, ya que asumirá que la mayoría de las transacciones no son fraudulentas. Esto nos obligará a modificar bastante el marco de datos más adelante para poder crear un modelo que prediga adecuadamente (patrones de) fraude.\n"
      ]
    },
    {
      "cell_type": "code",
      "metadata": {
        "id": "l28XmOYYMsFq"
      },
      "source": [
        ""
      ],
      "execution_count": null,
      "outputs": []
    },
    {
      "cell_type": "markdown",
      "metadata": {
        "id": "dOI7lZbxR39L"
      },
      "source": [
        "Dos columnas Time y Amount con sus datos de precision no normalizadas\n"
      ]
    },
    {
      "cell_type": "code",
      "metadata": {
        "id": "acfZocW9R_NS",
        "colab": {
          "base_uri": "https://localhost:8080/",
          "height": 290
        },
        "outputId": "43e7e2c6-6641-42e0-ca6f-abdf0c1b4856"
      },
      "source": [
        "#resumen numérico -> sólo columnas de interés no anonimizadas\n",
        "pd.set_option('precision', 3)\n",
        "df.loc[:, ['Time', 'Amount']].describe()"
      ],
      "execution_count": null,
      "outputs": [
        {
          "output_type": "execute_result",
          "data": {
            "text/html": [
              "<div>\n",
              "<style scoped>\n",
              "    .dataframe tbody tr th:only-of-type {\n",
              "        vertical-align: middle;\n",
              "    }\n",
              "\n",
              "    .dataframe tbody tr th {\n",
              "        vertical-align: top;\n",
              "    }\n",
              "\n",
              "    .dataframe thead th {\n",
              "        text-align: right;\n",
              "    }\n",
              "</style>\n",
              "<table border=\"1\" class=\"dataframe\">\n",
              "  <thead>\n",
              "    <tr style=\"text-align: right;\">\n",
              "      <th></th>\n",
              "      <th>Time</th>\n",
              "      <th>Amount</th>\n",
              "    </tr>\n",
              "  </thead>\n",
              "  <tbody>\n",
              "    <tr>\n",
              "      <th>count</th>\n",
              "      <td>49610.000</td>\n",
              "      <td>49609.000</td>\n",
              "    </tr>\n",
              "    <tr>\n",
              "      <th>mean</th>\n",
              "      <td>28803.556</td>\n",
              "      <td>93.121</td>\n",
              "    </tr>\n",
              "    <tr>\n",
              "      <th>std</th>\n",
              "      <td>13097.469</td>\n",
              "      <td>253.266</td>\n",
              "    </tr>\n",
              "    <tr>\n",
              "      <th>min</th>\n",
              "      <td>0.000</td>\n",
              "      <td>0.000</td>\n",
              "    </tr>\n",
              "    <tr>\n",
              "      <th>25%</th>\n",
              "      <td>21734.250</td>\n",
              "      <td>7.610</td>\n",
              "    </tr>\n",
              "    <tr>\n",
              "      <th>50%</th>\n",
              "      <td>33390.000</td>\n",
              "      <td>25.000</td>\n",
              "    </tr>\n",
              "    <tr>\n",
              "      <th>75%</th>\n",
              "      <td>38852.750</td>\n",
              "      <td>85.000</td>\n",
              "    </tr>\n",
              "    <tr>\n",
              "      <th>max</th>\n",
              "      <td>44135.000</td>\n",
              "      <td>12910.930</td>\n",
              "    </tr>\n",
              "  </tbody>\n",
              "</table>\n",
              "</div>"
            ],
            "text/plain": [
              "            Time     Amount\n",
              "count  49610.000  49609.000\n",
              "mean   28803.556     93.121\n",
              "std    13097.469    253.266\n",
              "min        0.000      0.000\n",
              "25%    21734.250      7.610\n",
              "50%    33390.000     25.000\n",
              "75%    38852.750     85.000\n",
              "max    44135.000  12910.930"
            ]
          },
          "metadata": {},
          "execution_count": 12
        }
      ]
    },
    {
      "cell_type": "markdown",
      "metadata": {
        "id": "K-AVEFj4llMf"
      },
      "source": [
        "Veamos las distribuciones:"
      ]
    },
    {
      "cell_type": "code",
      "metadata": {
        "colab": {
          "base_uri": "https://localhost:8080/",
          "height": 282
        },
        "id": "Z49UenR0T40y",
        "outputId": "668a54f4-9d2a-4314-d5b4-195284b23c50"
      },
      "source": [
        "fig, ax = plt.subplots(1, 2, figsize=(18,4))\n",
        "\n",
        "amount_val = df['Amount'].values\n",
        "time_val = df['Time'].values\n",
        "\n",
        "sns.distplot(amount_val, ax=ax[0], color='r')\n",
        "ax[0].set_title('Distribution of Transaction Amount', fontsize=14)\n",
        "ax[0].set_xlim([min(amount_val), max(amount_val)])\n",
        "\n",
        "sns.distplot(time_val, ax=ax[1], color='b')\n",
        "ax[1].set_title('Distribution of Transaction Time', fontsize=14)\n",
        "ax[1].set_xlim([min(time_val), max(time_val)])\n",
        "\n",
        "plt.show()"
      ],
      "execution_count": null,
      "outputs": [
        {
          "output_type": "display_data",
          "data": {
            "image/png": "[encoded data removed]",
            "text/plain": [
              "<Figure size 1296x288 with 2 Axes>"
            ]
          },
          "metadata": {
            "needs_background": "light"
          }
        }
      ]
    },
    {
      "cell_type": "markdown",
      "metadata": {
        "id": "-u5vhHKQU0hd"
      },
      "source": [
        "En ciertos momentos del tiempo se evidencia grandes cantidades de fraudes"
      ]
    },
    {
      "cell_type": "code",
      "metadata": {
        "id": "yyuV1CF5M9Mh"
      },
      "source": [
        "# separating the data for analysis\n",
        "legit = df[df.Class == 0]\n",
        "fraud = df[df.Class == 1]"
      ],
      "execution_count": null,
      "outputs": []
    },
    {
      "cell_type": "code",
      "metadata": {
        "colab": {
          "base_uri": "https://localhost:8080/"
        },
        "id": "6AK66k9vSdwO",
        "outputId": "71135e80-1896-461d-cc42-bf5339996a75"
      },
      "source": [
        "print(legit.shape)\n",
        "print(fraud.shape)"
      ],
      "execution_count": null,
      "outputs": [
        {
          "output_type": "stream",
          "name": "stdout",
          "text": [
            "(49461, 31)\n",
            "(148, 31)\n"
          ]
        }
      ]
    },
    {
      "cell_type": "code",
      "metadata": {
        "colab": {
          "base_uri": "https://localhost:8080/",
          "height": 978
        },
        "id": "rRWvLGGuUjwW",
        "outputId": "d47b483e-7021-4e77-efa5-14cff7c2f7cf"
      },
      "source": [
        "corr = df.corr()\n",
        "\n",
        "plt.figure(figsize=(13,16))\n",
        "heat = sns.heatmap(data=corr)\n",
        "plt.title('Mapa térmico de la correlación')"
      ],
      "execution_count": null,
      "outputs": [
        {
          "output_type": "execute_result",
          "data": {
            "text/plain": [
              "Text(0.5, 1.0, 'Mapa térmico de la correlación')"
            ]
          },
          "metadata": {},
          "execution_count": 18
        },
        {
          "output_type": "display_data",
          "data": {
            "image/png": "[encoded data removed]",
            "text/plain": [
              "<Figure size 936x1152 with 2 Axes>"
            ]
          },
          "metadata": {
            "needs_background": "light"
          }
        }
      ]
    },
    {
      "cell_type": "markdown",
      "metadata": {
        "id": "skx3W1msOh1x"
      },
      "source": [
        "**Escalado y distribución**\n",
        "Escalado: Vamos a escalar las columnas Tiempo y Cantidad.\n",
        "\n",
        "Distribución: Crearemos una submuestra del marco de datos para tener una cantidad igual de casos de fraude y de no fraude. Esto ayudará a nuestro algoritmo a entender mejor los patrones que determinan si una transacción es un fraude o no.\n",
        "\n",
        "La submuestra será un marco de datos con una proporción de 50/50 de transacciones fraudulentas y no fraudulentas. Esto es importante para evitar el sobreajuste y proporcionarnos las correlaciones correctas entre las características.\n",
        "\n",
        "Tenemos que elegir al azar 492 casos de las transacciones no fraudulentas y colocarlos en nuestro nuevo marco de datos.\n",
        "\n",
        "La mayoría de nuestros datos ya están escalados, así que sólo tenemos que escalar las características de Tiempo y Cantidad:\n"
      ]
    },
    {
      "cell_type": "code",
      "metadata": {
        "id": "JXl7keQbcO6L"
      },
      "source": [
        "from sklearn.preprocessing import StandardScaler, RobustScaler\n",
        "\n",
        "# RobustScaler es menos propenso a los valores atípicos.\n",
        "\n",
        "std_scaler = StandardScaler()\n",
        "rob_scaler = RobustScaler()\n",
        "\n",
        "df['scaled_amount'] = rob_scaler.fit_transform(df['Amount'].values.reshape(-1,1))\n",
        "df['scaled_time'] = rob_scaler.fit_transform(df['Time'].values.reshape(-1,1))\n",
        "\n",
        "df.drop(['Time','Amount'], axis=1, inplace=True) # removing non-scaled time and\n"
      ],
      "execution_count": null,
      "outputs": []
    },
    {
      "cell_type": "code",
      "metadata": {
        "colab": {
          "base_uri": "https://localhost:8080/",
          "height": 220
        },
        "id": "2C26YviRPOws",
        "outputId": "0e814448-7ec0-42ca-b891-82e49a5f35b2"
      },
      "source": [
        "scaled_amount = df['scaled_amount']\n",
        "scaled_time = df['scaled_time']\n",
        "\n",
        "df.drop(['scaled_amount', 'scaled_time'], axis=1, inplace=True) # eliminar del final\n",
        "df.insert(0, 'scaled_amount', scaled_amount) # coloque la cantidad escalada en la columna 1\n",
        "df.insert(1, 'scaled_time', scaled_time) # colocar el tiempo escalado en la columna 2\n",
        "\n",
        "# ¡Cantidad y tiempo ahora son escalables!\n",
        "\n",
        "df.head()"
      ],
      "execution_count": null,
      "outputs": [
        {
          "output_type": "execute_result",
          "data": {
            "text/html": [
              "<div>\n",
              "<style scoped>\n",
              "    .dataframe tbody tr th:only-of-type {\n",
              "        vertical-align: middle;\n",
              "    }\n",
              "\n",
              "    .dataframe tbody tr th {\n",
              "        vertical-align: top;\n",
              "    }\n",
              "\n",
              "    .dataframe thead th {\n",
              "        text-align: right;\n",
              "    }\n",
              "</style>\n",
              "<table border=\"1\" class=\"dataframe\">\n",
              "  <thead>\n",
              "    <tr style=\"text-align: right;\">\n",
              "      <th></th>\n",
              "      <th>scaled_amount</th>\n",
              "      <th>scaled_time</th>\n",
              "      <th>V1</th>\n",
              "      <th>V2</th>\n",
              "      <th>V3</th>\n",
              "      <th>V4</th>\n",
              "      <th>V5</th>\n",
              "      <th>V6</th>\n",
              "      <th>V7</th>\n",
              "      <th>V8</th>\n",
              "      <th>V9</th>\n",
              "      <th>V10</th>\n",
              "      <th>V11</th>\n",
              "      <th>V12</th>\n",
              "      <th>V13</th>\n",
              "      <th>V14</th>\n",
              "      <th>V15</th>\n",
              "      <th>V16</th>\n",
              "      <th>V17</th>\n",
              "      <th>V18</th>\n",
              "      <th>V19</th>\n",
              "      <th>V20</th>\n",
              "      <th>V21</th>\n",
              "      <th>V22</th>\n",
              "      <th>V23</th>\n",
              "      <th>V24</th>\n",
              "      <th>V25</th>\n",
              "      <th>V26</th>\n",
              "      <th>V27</th>\n",
              "      <th>V28</th>\n",
              "      <th>Class</th>\n",
              "    </tr>\n",
              "  </thead>\n",
              "  <tbody>\n",
              "    <tr>\n",
              "      <th>0</th>\n",
              "      <td>1.610</td>\n",
              "      <td>-1.951</td>\n",
              "      <td>-1.360</td>\n",
              "      <td>-0.073</td>\n",
              "      <td>2.536</td>\n",
              "      <td>1.378</td>\n",
              "      <td>-0.338</td>\n",
              "      <td>0.462</td>\n",
              "      <td>0.240</td>\n",
              "      <td>0.099</td>\n",
              "      <td>0.364</td>\n",
              "      <td>0.091</td>\n",
              "      <td>-0.552</td>\n",
              "      <td>-0.618</td>\n",
              "      <td>-0.991</td>\n",
              "      <td>-0.311</td>\n",
              "      <td>1.468</td>\n",
              "      <td>-0.470</td>\n",
              "      <td>0.208</td>\n",
              "      <td>0.026</td>\n",
              "      <td>0.404</td>\n",
              "      <td>0.251</td>\n",
              "      <td>-0.018</td>\n",
              "      <td>0.278</td>\n",
              "      <td>-0.110</td>\n",
              "      <td>0.067</td>\n",
              "      <td>0.129</td>\n",
              "      <td>-0.189</td>\n",
              "      <td>0.134</td>\n",
              "      <td>-0.021</td>\n",
              "      <td>0.0</td>\n",
              "    </tr>\n",
              "    <tr>\n",
              "      <th>1</th>\n",
              "      <td>-0.288</td>\n",
              "      <td>-1.951</td>\n",
              "      <td>1.192</td>\n",
              "      <td>0.266</td>\n",
              "      <td>0.166</td>\n",
              "      <td>0.448</td>\n",
              "      <td>0.060</td>\n",
              "      <td>-0.082</td>\n",
              "      <td>-0.079</td>\n",
              "      <td>0.085</td>\n",
              "      <td>-0.255</td>\n",
              "      <td>-0.167</td>\n",
              "      <td>1.613</td>\n",
              "      <td>1.065</td>\n",
              "      <td>0.489</td>\n",
              "      <td>-0.144</td>\n",
              "      <td>0.636</td>\n",
              "      <td>0.464</td>\n",
              "      <td>-0.115</td>\n",
              "      <td>-0.183</td>\n",
              "      <td>-0.146</td>\n",
              "      <td>-0.069</td>\n",
              "      <td>-0.226</td>\n",
              "      <td>-0.639</td>\n",
              "      <td>0.101</td>\n",
              "      <td>-0.340</td>\n",
              "      <td>0.167</td>\n",
              "      <td>0.126</td>\n",
              "      <td>-0.009</td>\n",
              "      <td>0.015</td>\n",
              "      <td>0.0</td>\n",
              "    </tr>\n",
              "    <tr>\n",
              "      <th>2</th>\n",
              "      <td>4.570</td>\n",
              "      <td>-1.950</td>\n",
              "      <td>-1.358</td>\n",
              "      <td>-1.340</td>\n",
              "      <td>1.773</td>\n",
              "      <td>0.380</td>\n",
              "      <td>-0.503</td>\n",
              "      <td>1.800</td>\n",
              "      <td>0.791</td>\n",
              "      <td>0.248</td>\n",
              "      <td>-1.515</td>\n",
              "      <td>0.208</td>\n",
              "      <td>0.625</td>\n",
              "      <td>0.066</td>\n",
              "      <td>0.717</td>\n",
              "      <td>-0.166</td>\n",
              "      <td>2.346</td>\n",
              "      <td>-2.890</td>\n",
              "      <td>1.110</td>\n",
              "      <td>-0.121</td>\n",
              "      <td>-2.262</td>\n",
              "      <td>0.525</td>\n",
              "      <td>0.248</td>\n",
              "      <td>0.772</td>\n",
              "      <td>0.909</td>\n",
              "      <td>-0.689</td>\n",
              "      <td>-0.328</td>\n",
              "      <td>-0.139</td>\n",
              "      <td>-0.055</td>\n",
              "      <td>-0.060</td>\n",
              "      <td>0.0</td>\n",
              "    </tr>\n",
              "    <tr>\n",
              "      <th>3</th>\n",
              "      <td>1.273</td>\n",
              "      <td>-1.950</td>\n",
              "      <td>-0.966</td>\n",
              "      <td>-0.185</td>\n",
              "      <td>1.793</td>\n",
              "      <td>-0.863</td>\n",
              "      <td>-0.010</td>\n",
              "      <td>1.247</td>\n",
              "      <td>0.238</td>\n",
              "      <td>0.377</td>\n",
              "      <td>-1.387</td>\n",
              "      <td>-0.055</td>\n",
              "      <td>-0.226</td>\n",
              "      <td>0.178</td>\n",
              "      <td>0.508</td>\n",
              "      <td>-0.288</td>\n",
              "      <td>-0.631</td>\n",
              "      <td>-1.060</td>\n",
              "      <td>-0.684</td>\n",
              "      <td>1.966</td>\n",
              "      <td>-1.233</td>\n",
              "      <td>-0.208</td>\n",
              "      <td>-0.108</td>\n",
              "      <td>0.005</td>\n",
              "      <td>-0.190</td>\n",
              "      <td>-1.176</td>\n",
              "      <td>0.647</td>\n",
              "      <td>-0.222</td>\n",
              "      <td>0.063</td>\n",
              "      <td>0.061</td>\n",
              "      <td>0.0</td>\n",
              "    </tr>\n",
              "    <tr>\n",
              "      <th>4</th>\n",
              "      <td>0.581</td>\n",
              "      <td>-1.950</td>\n",
              "      <td>-1.158</td>\n",
              "      <td>0.878</td>\n",
              "      <td>1.549</td>\n",
              "      <td>0.403</td>\n",
              "      <td>-0.407</td>\n",
              "      <td>0.096</td>\n",
              "      <td>0.593</td>\n",
              "      <td>-0.271</td>\n",
              "      <td>0.818</td>\n",
              "      <td>0.753</td>\n",
              "      <td>-0.823</td>\n",
              "      <td>0.538</td>\n",
              "      <td>1.346</td>\n",
              "      <td>-1.120</td>\n",
              "      <td>0.175</td>\n",
              "      <td>-0.451</td>\n",
              "      <td>-0.237</td>\n",
              "      <td>-0.038</td>\n",
              "      <td>0.803</td>\n",
              "      <td>0.409</td>\n",
              "      <td>-0.009</td>\n",
              "      <td>0.798</td>\n",
              "      <td>-0.137</td>\n",
              "      <td>0.141</td>\n",
              "      <td>-0.206</td>\n",
              "      <td>0.502</td>\n",
              "      <td>0.219</td>\n",
              "      <td>0.215</td>\n",
              "      <td>0.0</td>\n",
              "    </tr>\n",
              "  </tbody>\n",
              "</table>\n",
              "</div>"
            ],
            "text/plain": [
              "   scaled_amount  scaled_time     V1     V2  ...    V26    V27    V28  Class\n",
              "0          1.610       -1.951 -1.360 -0.073  ... -0.189  0.134 -0.021    0.0\n",
              "1         -0.288       -1.951  1.192  0.266  ...  0.126 -0.009  0.015    0.0\n",
              "2          4.570       -1.950 -1.358 -1.340  ... -0.139 -0.055 -0.060    0.0\n",
              "3          1.273       -1.950 -0.966 -0.185  ... -0.222  0.063  0.061    0.0\n",
              "4          0.581       -1.950 -1.158  0.878  ...  0.502  0.219  0.215    0.0\n",
              "\n",
              "[5 rows x 31 columns]"
            ]
          },
          "metadata": {},
          "execution_count": 26
        }
      ]
    },
    {
      "cell_type": "markdown",
      "metadata": {
        "id": "fi517nY1ctqK"
      },
      "source": [
        "**Dividir los datos**\n",
        "\n",
        "> Antes de realizar el submuestreo aleatorio, tenemos que crear nuestro conjunto de pruebas a partir del marco de datos original para poder probar nuestro modelo creado a partir del marco de datos submuestreado en el conjunto de pruebas del marco de datos origina\n"
      ]
    },
    {
      "cell_type": "code",
      "metadata": {
        "id": "mhw6WkPMoYie",
        "colab": {
          "base_uri": "https://localhost:8080/",
          "height": 220
        },
        "outputId": "ededf1c1-f5f7-49be-c89e-e722eb8e5cf1"
      },
      "source": [
        "df = df.sample(frac=1)\n",
        "\n",
        "# amount of fraud classes\n",
        "fraud_df = df.loc[df['Class'] == 1]\n",
        "non_fraud_df = df.loc[df['Class'] == 0][:492]\n",
        "\n",
        "normal_distributed_df = pd.concat([fraud_df, non_fraud_df])\n",
        "\n",
        "# Shuffle dataframe rows\n",
        "new_df = normal_distributed_df.sample(frac=1, random_state=42)\n",
        "\n",
        "new_df.head()"
      ],
      "execution_count": null,
      "outputs": [
        {
          "output_type": "execute_result",
          "data": {
            "text/html": [
              "<div>\n",
              "<style scoped>\n",
              "    .dataframe tbody tr th:only-of-type {\n",
              "        vertical-align: middle;\n",
              "    }\n",
              "\n",
              "    .dataframe tbody tr th {\n",
              "        vertical-align: top;\n",
              "    }\n",
              "\n",
              "    .dataframe thead th {\n",
              "        text-align: right;\n",
              "    }\n",
              "</style>\n",
              "<table border=\"1\" class=\"dataframe\">\n",
              "  <thead>\n",
              "    <tr style=\"text-align: right;\">\n",
              "      <th></th>\n",
              "      <th>scaled_amount</th>\n",
              "      <th>scaled_time</th>\n",
              "      <th>V1</th>\n",
              "      <th>V2</th>\n",
              "      <th>V3</th>\n",
              "      <th>V4</th>\n",
              "      <th>V5</th>\n",
              "      <th>V6</th>\n",
              "      <th>V7</th>\n",
              "      <th>V8</th>\n",
              "      <th>V9</th>\n",
              "      <th>V10</th>\n",
              "      <th>V11</th>\n",
              "      <th>V12</th>\n",
              "      <th>V13</th>\n",
              "      <th>V14</th>\n",
              "      <th>V15</th>\n",
              "      <th>V16</th>\n",
              "      <th>V17</th>\n",
              "      <th>V18</th>\n",
              "      <th>V19</th>\n",
              "      <th>V20</th>\n",
              "      <th>V21</th>\n",
              "      <th>V22</th>\n",
              "      <th>V23</th>\n",
              "      <th>V24</th>\n",
              "      <th>V25</th>\n",
              "      <th>V26</th>\n",
              "      <th>V27</th>\n",
              "      <th>V28</th>\n",
              "      <th>Class</th>\n",
              "    </tr>\n",
              "  </thead>\n",
              "  <tbody>\n",
              "    <tr>\n",
              "      <th>21372</th>\n",
              "      <td>-0.207</td>\n",
              "      <td>-0.103</td>\n",
              "      <td>-3.277</td>\n",
              "      <td>0.257</td>\n",
              "      <td>1.750</td>\n",
              "      <td>0.825</td>\n",
              "      <td>1.421</td>\n",
              "      <td>-1.650</td>\n",
              "      <td>-1.934</td>\n",
              "      <td>-3.405</td>\n",
              "      <td>-0.129</td>\n",
              "      <td>0.556</td>\n",
              "      <td>0.421</td>\n",
              "      <td>1.110</td>\n",
              "      <td>1.163</td>\n",
              "      <td>0.028</td>\n",
              "      <td>1.274</td>\n",
              "      <td>-0.161</td>\n",
              "      <td>0.253</td>\n",
              "      <td>-0.714</td>\n",
              "      <td>0.655</td>\n",
              "      <td>-1.649</td>\n",
              "      <td>2.458</td>\n",
              "      <td>-1.609</td>\n",
              "      <td>-0.858</td>\n",
              "      <td>1.033</td>\n",
              "      <td>-0.081</td>\n",
              "      <td>0.266</td>\n",
              "      <td>0.982</td>\n",
              "      <td>-0.090</td>\n",
              "      <td>0.0</td>\n",
              "    </tr>\n",
              "    <tr>\n",
              "      <th>44685</th>\n",
              "      <td>-0.310</td>\n",
              "      <td>0.506</td>\n",
              "      <td>-0.526</td>\n",
              "      <td>1.187</td>\n",
              "      <td>0.376</td>\n",
              "      <td>-0.004</td>\n",
              "      <td>1.386</td>\n",
              "      <td>-0.156</td>\n",
              "      <td>0.834</td>\n",
              "      <td>0.148</td>\n",
              "      <td>-0.801</td>\n",
              "      <td>-1.166</td>\n",
              "      <td>1.168</td>\n",
              "      <td>0.238</td>\n",
              "      <td>-0.038</td>\n",
              "      <td>-1.300</td>\n",
              "      <td>-0.022</td>\n",
              "      <td>0.837</td>\n",
              "      <td>0.396</td>\n",
              "      <td>0.953</td>\n",
              "      <td>-0.990</td>\n",
              "      <td>-0.103</td>\n",
              "      <td>0.101</td>\n",
              "      <td>0.279</td>\n",
              "      <td>-0.280</td>\n",
              "      <td>-0.811</td>\n",
              "      <td>-0.117</td>\n",
              "      <td>-0.499</td>\n",
              "      <td>0.169</td>\n",
              "      <td>0.174</td>\n",
              "      <td>0.0</td>\n",
              "    </tr>\n",
              "    <tr>\n",
              "      <th>44906</th>\n",
              "      <td>-0.013</td>\n",
              "      <td>0.511</td>\n",
              "      <td>-0.966</td>\n",
              "      <td>0.431</td>\n",
              "      <td>1.220</td>\n",
              "      <td>-1.712</td>\n",
              "      <td>-0.850</td>\n",
              "      <td>-1.198</td>\n",
              "      <td>-0.104</td>\n",
              "      <td>0.377</td>\n",
              "      <td>-1.292</td>\n",
              "      <td>-0.081</td>\n",
              "      <td>-0.773</td>\n",
              "      <td>-1.215</td>\n",
              "      <td>-0.804</td>\n",
              "      <td>0.196</td>\n",
              "      <td>0.206</td>\n",
              "      <td>1.458</td>\n",
              "      <td>0.204</td>\n",
              "      <td>-1.155</td>\n",
              "      <td>-0.054</td>\n",
              "      <td>0.092</td>\n",
              "      <td>0.199</td>\n",
              "      <td>0.282</td>\n",
              "      <td>-0.106</td>\n",
              "      <td>0.349</td>\n",
              "      <td>0.132</td>\n",
              "      <td>-0.386</td>\n",
              "      <td>0.183</td>\n",
              "      <td>0.079</td>\n",
              "      <td>0.0</td>\n",
              "    </tr>\n",
              "    <tr>\n",
              "      <th>32156</th>\n",
              "      <td>0.493</td>\n",
              "      <td>0.191</td>\n",
              "      <td>-0.534</td>\n",
              "      <td>0.227</td>\n",
              "      <td>1.621</td>\n",
              "      <td>-2.094</td>\n",
              "      <td>-0.498</td>\n",
              "      <td>-0.741</td>\n",
              "      <td>0.499</td>\n",
              "      <td>-0.065</td>\n",
              "      <td>0.793</td>\n",
              "      <td>-1.592</td>\n",
              "      <td>-0.701</td>\n",
              "      <td>0.080</td>\n",
              "      <td>0.121</td>\n",
              "      <td>0.016</td>\n",
              "      <td>1.822</td>\n",
              "      <td>-0.118</td>\n",
              "      <td>-0.436</td>\n",
              "      <td>0.388</td>\n",
              "      <td>0.978</td>\n",
              "      <td>0.169</td>\n",
              "      <td>0.016</td>\n",
              "      <td>-0.015</td>\n",
              "      <td>-0.087</td>\n",
              "      <td>-0.097</td>\n",
              "      <td>-0.019</td>\n",
              "      <td>-0.076</td>\n",
              "      <td>0.077</td>\n",
              "      <td>0.107</td>\n",
              "      <td>0.0</td>\n",
              "    </tr>\n",
              "    <tr>\n",
              "      <th>32581</th>\n",
              "      <td>3.729</td>\n",
              "      <td>0.203</td>\n",
              "      <td>0.526</td>\n",
              "      <td>-1.296</td>\n",
              "      <td>0.360</td>\n",
              "      <td>0.284</td>\n",
              "      <td>-0.809</td>\n",
              "      <td>0.610</td>\n",
              "      <td>-0.223</td>\n",
              "      <td>0.282</td>\n",
              "      <td>0.419</td>\n",
              "      <td>-0.287</td>\n",
              "      <td>1.545</td>\n",
              "      <td>0.922</td>\n",
              "      <td>-0.547</td>\n",
              "      <td>0.284</td>\n",
              "      <td>0.372</td>\n",
              "      <td>-0.199</td>\n",
              "      <td>0.217</td>\n",
              "      <td>-0.730</td>\n",
              "      <td>-0.409</td>\n",
              "      <td>0.465</td>\n",
              "      <td>0.217</td>\n",
              "      <td>0.071</td>\n",
              "      <td>-0.212</td>\n",
              "      <td>-0.208</td>\n",
              "      <td>-0.043</td>\n",
              "      <td>1.025</td>\n",
              "      <td>-0.090</td>\n",
              "      <td>0.044</td>\n",
              "      <td>0.0</td>\n",
              "    </tr>\n",
              "  </tbody>\n",
              "</table>\n",
              "</div>"
            ],
            "text/plain": [
              "       scaled_amount  scaled_time     V1     V2  ...    V26    V27    V28  Class\n",
              "21372         -0.207       -0.103 -3.277  0.257  ...  0.266  0.982 -0.090    0.0\n",
              "44685         -0.310        0.506 -0.526  1.187  ... -0.499  0.169  0.174    0.0\n",
              "44906         -0.013        0.511 -0.966  0.431  ... -0.386  0.183  0.079    0.0\n",
              "32156          0.493        0.191 -0.534  0.227  ... -0.076  0.077  0.107    0.0\n",
              "32581          3.729        0.203  0.526 -1.296  ...  1.025 -0.090  0.044    0.0\n",
              "\n",
              "[5 rows x 31 columns]"
            ]
          },
          "metadata": {},
          "execution_count": 32
        }
      ]
    },
    {
      "cell_type": "markdown",
      "metadata": {
        "id": "mUIBHAQxRJVZ"
      },
      "source": [
        "Submuestreo y sobremuestreo aleatorios\n",
        "Vamos a equilibrar nuestro conjunto de datos utilizando un submuestreo aleatorio.\n",
        "\n",
        "Pasos:\n",
        "\n",
        "\n",
        "> Determine cuán desequilibrada está nuestra clase. value_count() aplicado a Class funciona bien para esto. En nuestro caso, es de 492\n",
        "Llevar el número de transacciones no fraudulentas al mismo que las transacciones fraudulentas.\n",
        "Barajar los datos* para ver si nuestro modelo puede mantener una cierta precisión cada vez que ejecutamos nuestro script.\n",
        "Obviamente, hay un problema con este método: como estamos eliminando tantas transacciones, nuestro conjunto de datos disminuye significativamente de tamaño y hay una pérdida de información.\n",
        "\n",
        "Barajemos los datos antes de crear submuestras:\n",
        "\n"
      ]
    },
    {
      "cell_type": "code",
      "metadata": {
        "colab": {
          "base_uri": "https://localhost:8080/",
          "height": 362
        },
        "id": "X9EdZW4HwaBU",
        "outputId": "322c3b62-2342-4b81-c167-8e8e62932905"
      },
      "source": [
        "from scipy.stats import norm\n",
        "\n",
        "f, (ax1, ax2, ax3, ax4) = plt.subplots(1, 4, figsize=(25, 6))\n",
        "\n",
        "V2_fraud_dist = new_df['V2'].loc[new_df['Class'] == 1].values\n",
        "sns.distplot(V2_fraud_dist, ax=ax1, fit=norm, color='#FB8861')\n",
        "ax1.set_title('V2 Distribution \\n (Fraud Transactions)', fontsize=14)\n",
        "\n",
        "v4_fraud_dist = new_df['V4'].loc[new_df['Class'] == 1].values\n",
        "sns.distplot(v4_fraud_dist,ax=ax2, fit=norm, color='#56F9BB')\n",
        "ax2.set_title('V4 Distribution \\n (Fraud Transactions)', fontsize=14)\n",
        "\n",
        "\n",
        "v11_fraud_dist = new_df['V11'].loc[new_df['Class'] == 1].values\n",
        "sns.distplot(v11_fraud_dist,ax=ax3, fit=norm, color='#C5B3F9')\n",
        "ax3.set_title('V11 Distribution \\n (Fraud Transactions)', fontsize=14)\n",
        "\n",
        "v19_fraud_dist = new_df['V19'].loc[new_df['Class'] == 1].values\n",
        "sns.distplot(v19_fraud_dist,ax=ax4, fit=norm, color='#654321')\n",
        "ax4.set_title('V19 Distribution \\n (Fraud Transactions)', fontsize=14)\n",
        "\n",
        "plt.show()"
      ],
      "execution_count": null,
      "outputs": [
        {
          "output_type": "display_data",
          "data": {
            "image/png": "[encoded data removed]",
            "text/plain": [
              "<Figure size 1800x432 with 4 Axes>"
            ]
          },
          "metadata": {
            "needs_background": "light"
          }
        }
      ]
    },
    {
      "cell_type": "markdown",
      "metadata": {
        "id": "6m8cgjjQXnI9"
      },
      "source": [
        "**Se inicia con el modelo de regression logistica**\n",
        "\n"
      ]
    },
    {
      "cell_type": "code",
      "metadata": {
        "id": "8o9hxUhCwa8N"
      },
      "source": [
        "model = LogisticRegression()"
      ],
      "execution_count": null,
      "outputs": []
    },
    {
      "cell_type": "code",
      "metadata": {
        "id": "aeZByxQGpm5j"
      },
      "source": [
        "legit_sample = legit.sample(n=492)"
      ],
      "execution_count": null,
      "outputs": []
    },
    {
      "cell_type": "code",
      "metadata": {
        "id": "X8xufgLLaA_w"
      },
      "source": [
        "new_dataset = pd.concat([legit_sample, fraud], axis=0)"
      ],
      "execution_count": null,
      "outputs": []
    },
    {
      "cell_type": "code",
      "metadata": {
        "id": "C_0bVfibTmi-"
      },
      "source": [
        "X = new_dataset.drop(columns='Class', axis=1)\n",
        "Y = new_dataset['Class']"
      ],
      "execution_count": null,
      "outputs": []
    },
    {
      "cell_type": "code",
      "metadata": {
        "colab": {
          "base_uri": "https://localhost:8080/"
        },
        "id": "ov-OheSJTpc2",
        "outputId": "336a3099-b52f-458c-88a4-6e099cb224c3"
      },
      "source": [
        "print(X)"
      ],
      "execution_count": null,
      "outputs": [
        {
          "output_type": "stream",
          "name": "stdout",
          "text": [
            "       scaled_amount  scaled_time     V1     V2  ...    V25    V26    V27    V28\n",
            "27415         -0.271        0.067  1.195 -0.124  ...  0.308  0.476 -0.051 -0.002\n",
            "21064         -0.120       -0.114  1.130  0.070  ...  0.649 -0.308  0.029  0.002\n",
            "41352          0.581        0.424 -1.177  1.239  ...  0.340 -0.124 -0.132 -0.159\n",
            "29653          0.007        0.127  1.262 -0.395  ...  0.361 -0.305  0.036  0.030\n",
            "28335          0.306        0.092  1.414 -1.053  ...  0.493 -0.117  0.016  0.002\n",
            "...              ...          ...    ...    ...  ...    ...    ...    ...    ...\n",
            "18773         -0.314       -0.212  0.270  3.550  ...  1.378  0.565  0.553  0.402\n",
            "9035          -0.310       -1.215 -2.590  7.017  ... -0.690  0.632  1.934  0.790\n",
            "41943         -0.313        0.438 -2.141  4.105  ...  1.364 -0.519  2.352  1.131\n",
            "541           -0.323       -1.927 -2.312  1.952  ...  0.045  0.178  0.261 -0.143\n",
            "9252          -0.310       -1.172 -5.454  8.287  ...  1.352  0.608  1.575  0.809\n",
            "\n",
            "[640 rows x 30 columns]\n"
          ]
        }
      ]
    },
    {
      "cell_type": "code",
      "metadata": {
        "id": "TMJjivQXTvpV"
      },
      "source": [
        "X_train, X_test, Y_train, Y_test = train_test_split(X, Y, test_size=0.2, stratify=Y, random_state=2)"
      ],
      "execution_count": null,
      "outputs": []
    },
    {
      "cell_type": "code",
      "metadata": {
        "colab": {
          "base_uri": "https://localhost:8080/"
        },
        "id": "olRcepwzTxgs",
        "outputId": "39769ddc-6291-4797-8ca6-7ab11976baab"
      },
      "source": [
        "print(X.shape, X_train.shape, X_test.shape)"
      ],
      "execution_count": null,
      "outputs": [
        {
          "output_type": "stream",
          "name": "stdout",
          "text": [
            "(640, 30) (512, 30) (128, 30)\n"
          ]
        }
      ]
    },
    {
      "cell_type": "markdown",
      "metadata": {
        "id": "bhZM1y1AT1Hm"
      },
      "source": [
        "**Evaluación del modelo**\n",
        "\n",
        "**Puntuación de precisión**"
      ]
    },
    {
      "cell_type": "code",
      "metadata": {
        "colab": {
          "base_uri": "https://localhost:8080/"
        },
        "id": "ulqiwkJbT0dz",
        "outputId": "0352839e-f858-4050-8e99-6fb5e7596038"
      },
      "source": [
        "# Entrenamiento del modelo de regresión logística con datos de entrenamiento\n",
        "model.fit(X_train, Y_train)"
      ],
      "execution_count": null,
      "outputs": [
        {
          "output_type": "execute_result",
          "data": {
            "text/plain": [
              "LogisticRegression(C=1.0, class_weight=None, dual=False, fit_intercept=True,\n",
              "                   intercept_scaling=1, l1_ratio=None, max_iter=100,\n",
              "                   multi_class='auto', n_jobs=None, penalty='l2',\n",
              "                   random_state=None, solver='lbfgs', tol=0.0001, verbose=0,\n",
              "                   warm_start=False)"
            ]
          },
          "metadata": {},
          "execution_count": 56
        }
      ]
    },
    {
      "cell_type": "code",
      "metadata": {
        "colab": {
          "base_uri": "https://localhost:8080/"
        },
        "id": "Xk4K8SzrUBkV",
        "outputId": "5e25b163-cd4a-42f1-e83e-bc974f122a00"
      },
      "source": [
        "print('Precisión en los datos de entrenamiento : ', training_data_accuracy)"
      ],
      "execution_count": null,
      "outputs": [
        {
          "output_type": "stream",
          "name": "stdout",
          "text": [
            "Precisión en los datos de entrenamiento :  0.98828125\n"
          ]
        }
      ]
    },
    {
      "cell_type": "code",
      "metadata": {
        "id": "IzAmh89yT-xf"
      },
      "source": [
        "# precisión en los datos de entrenamiento\n",
        "X_train_prediction = model.predict(X_train)\n",
        "training_data_accuracy = accuracy_score(X_train_prediction, Y_train)"
      ],
      "execution_count": null,
      "outputs": []
    },
    {
      "cell_type": "code",
      "metadata": {
        "id": "rK_IYsAg-U6r"
      },
      "source": [
        "# precisión en los datos de prueba\n",
        "X_test_prediction = model.predict(X_test)\n",
        "test_data_accuracy = accuracy_score(X_test_prediction, Y_test)"
      ],
      "execution_count": null,
      "outputs": []
    },
    {
      "cell_type": "code",
      "metadata": {
        "id": "T6Z3sIrVs3Bt",
        "colab": {
          "base_uri": "https://localhost:8080/"
        },
        "outputId": "d2241fa6-51fd-4dcd-d7e8-14f34cb8660e"
      },
      "source": [
        "print('Puntuación de precisión en los datos de la prueba : ', test_data_accuracy)"
      ],
      "execution_count": null,
      "outputs": [
        {
          "output_type": "stream",
          "name": "stdout",
          "text": [
            "Puntuación de precisión en los datos de la prueba :  0.984375\n"
          ]
        }
      ]
    },
    {
      "cell_type": "code",
      "metadata": {
        "id": "vNZemcO_VmRP"
      },
      "source": [
        "test_predictions=autoencoder.predict(X_test)\n",
        "mse = np.mean(np.power(X_test - test_predictions, 2), axis=1)\n",
        "y_pred=[(lambda er: 1 if er>=11.078922  else 0)(er) for er in mse]"
      ],
      "execution_count": null,
      "outputs": []
    },
    {
      "cell_type": "code",
      "metadata": {
        "id": "F2INQqx7ylHq"
      },
      "source": [
        "X_train, X_test, y_train, y_test = train_test_split(df.drop('Class',1) , df['Class'], test_size=0.5, random_state=0)"
      ],
      "execution_count": null,
      "outputs": []
    },
    {
      "cell_type": "code",
      "metadata": {
        "colab": {
          "base_uri": "https://localhost:8080/"
        },
        "id": "1o4CZi1eV1PF",
        "outputId": "4d41323d-c5cd-41bf-a854-e8126e6f48f1"
      },
      "source": [
        "y_test.value_counts()/y_test.count()"
      ],
      "execution_count": 89,
      "outputs": [
        {
          "output_type": "execute_result",
          "data": {
            "text/plain": [
              "0.0    0.997\n",
              "1.0    0.003\n",
              "Name: Class, dtype: float64"
            ]
          },
          "metadata": {},
          "execution_count": 89
        }
      ]
    }
  ]
}
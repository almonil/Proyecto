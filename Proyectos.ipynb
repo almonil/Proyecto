{
  "nbformat": 4,
  "nbformat_minor": 0,
  "metadata": {
    "colab": {
      "name": "Proyectos.ipynb",
      "provenance": [],
      "collapsed_sections": [],
      "include_colab_link": true
    },
    "kernelspec": {
      "name": "python3",
      "display_name": "Python 3"
    },
    "language_info": {
      "name": "python"
    }
  },
  "cells": [
    {
      "cell_type": "markdown",
      "metadata": {
        "id": "view-in-github",
        "colab_type": "text"
      },
      "source": [
        "<a href=\"https://colab.research.google.com/github/almonil/Proyecto/blob/main/Proyectos.ipynb\" target=\"_parent\"><img src=\"https://colab.research.google.com/assets/colab-badge.svg\" alt=\"Open In Colab\"/></a>"
      ]
    },
    {
      "cell_type": "markdown",
      "metadata": {
        "id": "MtZ_IrJcLdMK"
      },
      "source": [
        "Proyecto\n",
        "\n",
        "\n"
      ]
    },
    {
      "cell_type": "markdown",
      "metadata": {
        "id": "I520lMVHWSWb"
      },
      "source": [
        "Se importan las librerias"
      ]
    },
    {
      "cell_type": "code",
      "metadata": {
        "id": "-f__Ioyc1h7d"
      },
      "source": [
        "import numpy as np\n",
        "import pandas as pd\n",
        "import seaborn as sns\n",
        "import matplotlib.pyplot as plt\n",
        "from sklearn.model_selection import train_test_split\n",
        "from sklearn.linear_model import LogisticRegression\n",
        "from sklearn.metrics import accuracy_score\n",
        "from keras.layers import Input, Dense\n",
        "from keras.models import Model, load_model\n",
        "from sklearn import metrics\n",
        "from sklearn.preprocessing import StandardScaler\n",
        "from keras.models import Model, load_model\n",
        "import matplotlib.ticker as ticker"
      ],
      "execution_count": 438,
      "outputs": []
    },
    {
      "cell_type": "markdown",
      "metadata": {
        "id": "bENQsOVeWXGS"
      },
      "source": [
        "Se carga el archivo de datos a manejar en este caso Credit_data.csv"
      ]
    },
    {
      "cell_type": "code",
      "metadata": {
        "id": "Xk--ayku4n3Y"
      },
      "source": [
        "#Se carga el dataset a pandas dataframe\n",
        "df= pd.read_csv('/content/Proyecto/credit_data.csv', delimiter=',')\n",
        "\n"
      ],
      "execution_count": 439,
      "outputs": []
    },
    {
      "cell_type": "markdown",
      "metadata": {
        "id": "sFCDwbmuWcum"
      },
      "source": [
        "Preprocesamiento de datos.\n",
        "\n",
        "Aqui se ven ejemplos del dataframe y el uso de distintas librerias."
      ]
    },
    {
      "cell_type": "markdown",
      "metadata": {
        "id": "MXbSTKcJWm6o"
      },
      "source": [
        "Ver los 5 mejores registros"
      ]
    },
    {
      "cell_type": "code",
      "metadata": {
        "colab": {
          "base_uri": "https://localhost:8080/",
          "height": 222
        },
        "id": "jduLhtUD5mvM",
        "outputId": "dc8648fc-75b0-42c6-b91f-8c0d4c1b7813"
      },
      "source": [
        "credit_card_data.head()\n"
      ],
      "execution_count": 440,
      "outputs": [
        {
          "output_type": "execute_result",
          "data": {
            "text/html": [
              "<div>\n",
              "<style scoped>\n",
              "    .dataframe tbody tr th:only-of-type {\n",
              "        vertical-align: middle;\n",
              "    }\n",
              "\n",
              "    .dataframe tbody tr th {\n",
              "        vertical-align: top;\n",
              "    }\n",
              "\n",
              "    .dataframe thead th {\n",
              "        text-align: right;\n",
              "    }\n",
              "</style>\n",
              "<table border=\"1\" class=\"dataframe\">\n",
              "  <thead>\n",
              "    <tr style=\"text-align: right;\">\n",
              "      <th></th>\n",
              "      <th>Time</th>\n",
              "      <th>V1</th>\n",
              "      <th>V2</th>\n",
              "      <th>V3</th>\n",
              "      <th>V4</th>\n",
              "      <th>V5</th>\n",
              "      <th>V6</th>\n",
              "      <th>V7</th>\n",
              "      <th>V8</th>\n",
              "      <th>V9</th>\n",
              "      <th>V10</th>\n",
              "      <th>V11</th>\n",
              "      <th>V12</th>\n",
              "      <th>V13</th>\n",
              "      <th>V14</th>\n",
              "      <th>V15</th>\n",
              "      <th>V16</th>\n",
              "      <th>V17</th>\n",
              "      <th>V18</th>\n",
              "      <th>V19</th>\n",
              "      <th>V20</th>\n",
              "      <th>V21</th>\n",
              "      <th>V22</th>\n",
              "      <th>V23</th>\n",
              "      <th>V24</th>\n",
              "      <th>V25</th>\n",
              "      <th>V26</th>\n",
              "      <th>V27</th>\n",
              "      <th>V28</th>\n",
              "      <th>Amount</th>\n",
              "      <th>Class</th>\n",
              "    </tr>\n",
              "  </thead>\n",
              "  <tbody>\n",
              "    <tr>\n",
              "      <th>0</th>\n",
              "      <td>0.0</td>\n",
              "      <td>-1.360</td>\n",
              "      <td>-0.073</td>\n",
              "      <td>2.536</td>\n",
              "      <td>1.378</td>\n",
              "      <td>-0.338</td>\n",
              "      <td>0.462</td>\n",
              "      <td>0.240</td>\n",
              "      <td>0.099</td>\n",
              "      <td>0.364</td>\n",
              "      <td>0.091</td>\n",
              "      <td>-0.552</td>\n",
              "      <td>-0.618</td>\n",
              "      <td>-0.991</td>\n",
              "      <td>-0.311</td>\n",
              "      <td>1.468</td>\n",
              "      <td>-0.470</td>\n",
              "      <td>0.208</td>\n",
              "      <td>0.026</td>\n",
              "      <td>0.404</td>\n",
              "      <td>0.251</td>\n",
              "      <td>-0.018</td>\n",
              "      <td>0.278</td>\n",
              "      <td>-0.110</td>\n",
              "      <td>0.067</td>\n",
              "      <td>0.129</td>\n",
              "      <td>-0.189</td>\n",
              "      <td>0.134</td>\n",
              "      <td>-0.021</td>\n",
              "      <td>149.62</td>\n",
              "      <td>0</td>\n",
              "    </tr>\n",
              "    <tr>\n",
              "      <th>1</th>\n",
              "      <td>0.0</td>\n",
              "      <td>1.192</td>\n",
              "      <td>0.266</td>\n",
              "      <td>0.166</td>\n",
              "      <td>0.448</td>\n",
              "      <td>0.060</td>\n",
              "      <td>-0.082</td>\n",
              "      <td>-0.079</td>\n",
              "      <td>0.085</td>\n",
              "      <td>-0.255</td>\n",
              "      <td>-0.167</td>\n",
              "      <td>1.613</td>\n",
              "      <td>1.065</td>\n",
              "      <td>0.489</td>\n",
              "      <td>-0.144</td>\n",
              "      <td>0.636</td>\n",
              "      <td>0.464</td>\n",
              "      <td>-0.115</td>\n",
              "      <td>-0.183</td>\n",
              "      <td>-0.146</td>\n",
              "      <td>-0.069</td>\n",
              "      <td>-0.226</td>\n",
              "      <td>-0.639</td>\n",
              "      <td>0.101</td>\n",
              "      <td>-0.340</td>\n",
              "      <td>0.167</td>\n",
              "      <td>0.126</td>\n",
              "      <td>-0.009</td>\n",
              "      <td>0.015</td>\n",
              "      <td>2.69</td>\n",
              "      <td>0</td>\n",
              "    </tr>\n",
              "    <tr>\n",
              "      <th>2</th>\n",
              "      <td>1.0</td>\n",
              "      <td>-1.358</td>\n",
              "      <td>-1.340</td>\n",
              "      <td>1.773</td>\n",
              "      <td>0.380</td>\n",
              "      <td>-0.503</td>\n",
              "      <td>1.800</td>\n",
              "      <td>0.791</td>\n",
              "      <td>0.248</td>\n",
              "      <td>-1.515</td>\n",
              "      <td>0.208</td>\n",
              "      <td>0.625</td>\n",
              "      <td>0.066</td>\n",
              "      <td>0.717</td>\n",
              "      <td>-0.166</td>\n",
              "      <td>2.346</td>\n",
              "      <td>-2.890</td>\n",
              "      <td>1.110</td>\n",
              "      <td>-0.121</td>\n",
              "      <td>-2.262</td>\n",
              "      <td>0.525</td>\n",
              "      <td>0.248</td>\n",
              "      <td>0.772</td>\n",
              "      <td>0.909</td>\n",
              "      <td>-0.689</td>\n",
              "      <td>-0.328</td>\n",
              "      <td>-0.139</td>\n",
              "      <td>-0.055</td>\n",
              "      <td>-0.060</td>\n",
              "      <td>378.66</td>\n",
              "      <td>0</td>\n",
              "    </tr>\n",
              "    <tr>\n",
              "      <th>3</th>\n",
              "      <td>1.0</td>\n",
              "      <td>-0.966</td>\n",
              "      <td>-0.185</td>\n",
              "      <td>1.793</td>\n",
              "      <td>-0.863</td>\n",
              "      <td>-0.010</td>\n",
              "      <td>1.247</td>\n",
              "      <td>0.238</td>\n",
              "      <td>0.377</td>\n",
              "      <td>-1.387</td>\n",
              "      <td>-0.055</td>\n",
              "      <td>-0.226</td>\n",
              "      <td>0.178</td>\n",
              "      <td>0.508</td>\n",
              "      <td>-0.288</td>\n",
              "      <td>-0.631</td>\n",
              "      <td>-1.060</td>\n",
              "      <td>-0.684</td>\n",
              "      <td>1.966</td>\n",
              "      <td>-1.233</td>\n",
              "      <td>-0.208</td>\n",
              "      <td>-0.108</td>\n",
              "      <td>0.005</td>\n",
              "      <td>-0.190</td>\n",
              "      <td>-1.176</td>\n",
              "      <td>0.647</td>\n",
              "      <td>-0.222</td>\n",
              "      <td>0.063</td>\n",
              "      <td>0.061</td>\n",
              "      <td>123.50</td>\n",
              "      <td>0</td>\n",
              "    </tr>\n",
              "    <tr>\n",
              "      <th>4</th>\n",
              "      <td>2.0</td>\n",
              "      <td>-1.158</td>\n",
              "      <td>0.878</td>\n",
              "      <td>1.549</td>\n",
              "      <td>0.403</td>\n",
              "      <td>-0.407</td>\n",
              "      <td>0.096</td>\n",
              "      <td>0.593</td>\n",
              "      <td>-0.271</td>\n",
              "      <td>0.818</td>\n",
              "      <td>0.753</td>\n",
              "      <td>-0.823</td>\n",
              "      <td>0.538</td>\n",
              "      <td>1.346</td>\n",
              "      <td>-1.120</td>\n",
              "      <td>0.175</td>\n",
              "      <td>-0.451</td>\n",
              "      <td>-0.237</td>\n",
              "      <td>-0.038</td>\n",
              "      <td>0.803</td>\n",
              "      <td>0.409</td>\n",
              "      <td>-0.009</td>\n",
              "      <td>0.798</td>\n",
              "      <td>-0.137</td>\n",
              "      <td>0.141</td>\n",
              "      <td>-0.206</td>\n",
              "      <td>0.502</td>\n",
              "      <td>0.219</td>\n",
              "      <td>0.215</td>\n",
              "      <td>69.99</td>\n",
              "      <td>0</td>\n",
              "    </tr>\n",
              "  </tbody>\n",
              "</table>\n",
              "</div>"
            ],
            "text/plain": [
              "   Time     V1     V2     V3     V4  ...    V26    V27    V28  Amount  Class\n",
              "0   0.0 -1.360 -0.073  2.536  1.378  ... -0.189  0.134 -0.021  149.62      0\n",
              "1   0.0  1.192  0.266  0.166  0.448  ...  0.126 -0.009  0.015    2.69      0\n",
              "2   1.0 -1.358 -1.340  1.773  0.380  ... -0.139 -0.055 -0.060  378.66      0\n",
              "3   1.0 -0.966 -0.185  1.793 -0.863  ... -0.222  0.063  0.061  123.50      0\n",
              "4   2.0 -1.158  0.878  1.549  0.403  ...  0.502  0.219  0.215   69.99      0\n",
              "\n",
              "[5 rows x 31 columns]"
            ]
          },
          "metadata": {},
          "execution_count": 440
        }
      ]
    },
    {
      "cell_type": "markdown",
      "metadata": {
        "id": "aLU1a7wlYKUv"
      },
      "source": [
        "determinar el número de registros en el conjunto de datos"
      ]
    },
    {
      "cell_type": "code",
      "metadata": {
        "colab": {
          "base_uri": "https://localhost:8080/"
        },
        "id": "obbbXdB_X26c",
        "outputId": "b49f8039-3901-49c3-d868-2a5cf56008a7"
      },
      "source": [
        "print('El dataset contiene {0} filas and {1} columnas.'.format(df.shape[0], df.shape[1]))"
      ],
      "execution_count": 441,
      "outputs": [
        {
          "output_type": "stream",
          "name": "stdout",
          "text": [
            "El dataset contiene 284807 filas and 31 columnas.\n"
          ]
        }
      ]
    },
    {
      "cell_type": "markdown",
      "metadata": {
        "id": "q5JadYOSKuC2"
      },
      "source": [
        "Evaluación del modelo\n",
        "\n",
        "Puntuación de precisión"
      ]
    },
    {
      "cell_type": "code",
      "metadata": {
        "colab": {
          "base_uri": "https://localhost:8080/",
          "height": 222
        },
        "id": "9arVdloiI-zu",
        "outputId": "dcd50480-a493-4e00-a136-05ba95f855b8"
      },
      "source": [
        "legit_sample = legit.sample(n=492)\n",
        "new_dataset_credit = pd.concat([legit_sample, fraud], axis=0)\n",
        "new_dataset_credit.head()"
      ],
      "execution_count": 442,
      "outputs": [
        {
          "output_type": "execute_result",
          "data": {
            "text/html": [
              "<div>\n",
              "<style scoped>\n",
              "    .dataframe tbody tr th:only-of-type {\n",
              "        vertical-align: middle;\n",
              "    }\n",
              "\n",
              "    .dataframe tbody tr th {\n",
              "        vertical-align: top;\n",
              "    }\n",
              "\n",
              "    .dataframe thead th {\n",
              "        text-align: right;\n",
              "    }\n",
              "</style>\n",
              "<table border=\"1\" class=\"dataframe\">\n",
              "  <thead>\n",
              "    <tr style=\"text-align: right;\">\n",
              "      <th></th>\n",
              "      <th>Time</th>\n",
              "      <th>V1</th>\n",
              "      <th>V2</th>\n",
              "      <th>V3</th>\n",
              "      <th>V4</th>\n",
              "      <th>V5</th>\n",
              "      <th>V6</th>\n",
              "      <th>V7</th>\n",
              "      <th>V8</th>\n",
              "      <th>V9</th>\n",
              "      <th>V10</th>\n",
              "      <th>V11</th>\n",
              "      <th>V12</th>\n",
              "      <th>V13</th>\n",
              "      <th>V14</th>\n",
              "      <th>V15</th>\n",
              "      <th>V16</th>\n",
              "      <th>V17</th>\n",
              "      <th>V18</th>\n",
              "      <th>V19</th>\n",
              "      <th>V20</th>\n",
              "      <th>V21</th>\n",
              "      <th>V22</th>\n",
              "      <th>V23</th>\n",
              "      <th>V24</th>\n",
              "      <th>V25</th>\n",
              "      <th>V26</th>\n",
              "      <th>V27</th>\n",
              "      <th>V28</th>\n",
              "      <th>Amount</th>\n",
              "      <th>Class</th>\n",
              "    </tr>\n",
              "  </thead>\n",
              "  <tbody>\n",
              "    <tr>\n",
              "      <th>148752</th>\n",
              "      <td>90174.0</td>\n",
              "      <td>0.043</td>\n",
              "      <td>1.008</td>\n",
              "      <td>0.414</td>\n",
              "      <td>-0.399</td>\n",
              "      <td>0.545</td>\n",
              "      <td>-1.015</td>\n",
              "      <td>0.987</td>\n",
              "      <td>-0.323</td>\n",
              "      <td>1.145</td>\n",
              "      <td>-0.806</td>\n",
              "      <td>0.074</td>\n",
              "      <td>-2.053</td>\n",
              "      <td>2.299</td>\n",
              "      <td>1.417</td>\n",
              "      <td>-1.206</td>\n",
              "      <td>-0.133</td>\n",
              "      <td>0.264</td>\n",
              "      <td>-0.531</td>\n",
              "      <td>-0.270</td>\n",
              "      <td>-0.025</td>\n",
              "      <td>-0.404</td>\n",
              "      <td>-0.717</td>\n",
              "      <td>0.082</td>\n",
              "      <td>-0.076</td>\n",
              "      <td>-0.480</td>\n",
              "      <td>0.101</td>\n",
              "      <td>0.222</td>\n",
              "      <td>0.092</td>\n",
              "      <td>9.99</td>\n",
              "      <td>0</td>\n",
              "    </tr>\n",
              "    <tr>\n",
              "      <th>150217</th>\n",
              "      <td>92811.0</td>\n",
              "      <td>-1.478</td>\n",
              "      <td>-0.048</td>\n",
              "      <td>2.593</td>\n",
              "      <td>-2.537</td>\n",
              "      <td>0.028</td>\n",
              "      <td>0.136</td>\n",
              "      <td>-0.310</td>\n",
              "      <td>0.272</td>\n",
              "      <td>2.762</td>\n",
              "      <td>-1.233</td>\n",
              "      <td>1.532</td>\n",
              "      <td>-2.506</td>\n",
              "      <td>0.286</td>\n",
              "      <td>0.918</td>\n",
              "      <td>-0.856</td>\n",
              "      <td>1.010</td>\n",
              "      <td>-0.554</td>\n",
              "      <td>1.179</td>\n",
              "      <td>-1.210</td>\n",
              "      <td>0.068</td>\n",
              "      <td>-0.055</td>\n",
              "      <td>0.373</td>\n",
              "      <td>-0.405</td>\n",
              "      <td>0.669</td>\n",
              "      <td>0.391</td>\n",
              "      <td>0.534</td>\n",
              "      <td>0.176</td>\n",
              "      <td>-0.056</td>\n",
              "      <td>28.00</td>\n",
              "      <td>0</td>\n",
              "    </tr>\n",
              "    <tr>\n",
              "      <th>88887</th>\n",
              "      <td>62337.0</td>\n",
              "      <td>1.128</td>\n",
              "      <td>0.142</td>\n",
              "      <td>-0.014</td>\n",
              "      <td>0.986</td>\n",
              "      <td>0.150</td>\n",
              "      <td>-0.162</td>\n",
              "      <td>0.227</td>\n",
              "      <td>-0.093</td>\n",
              "      <td>-0.039</td>\n",
              "      <td>-0.065</td>\n",
              "      <td>-0.597</td>\n",
              "      <td>0.269</td>\n",
              "      <td>0.401</td>\n",
              "      <td>0.335</td>\n",
              "      <td>1.183</td>\n",
              "      <td>-0.094</td>\n",
              "      <td>-0.359</td>\n",
              "      <td>-0.453</td>\n",
              "      <td>-0.547</td>\n",
              "      <td>-0.021</td>\n",
              "      <td>0.058</td>\n",
              "      <td>0.138</td>\n",
              "      <td>-0.190</td>\n",
              "      <td>-0.440</td>\n",
              "      <td>0.676</td>\n",
              "      <td>-0.273</td>\n",
              "      <td>0.021</td>\n",
              "      <td>0.022</td>\n",
              "      <td>61.90</td>\n",
              "      <td>0</td>\n",
              "    </tr>\n",
              "    <tr>\n",
              "      <th>226956</th>\n",
              "      <td>144875.0</td>\n",
              "      <td>1.830</td>\n",
              "      <td>-0.576</td>\n",
              "      <td>-1.262</td>\n",
              "      <td>0.119</td>\n",
              "      <td>-0.068</td>\n",
              "      <td>-0.424</td>\n",
              "      <td>0.101</td>\n",
              "      <td>-0.163</td>\n",
              "      <td>0.761</td>\n",
              "      <td>-0.106</td>\n",
              "      <td>0.431</td>\n",
              "      <td>1.446</td>\n",
              "      <td>0.536</td>\n",
              "      <td>0.166</td>\n",
              "      <td>-1.005</td>\n",
              "      <td>-0.194</td>\n",
              "      <td>-0.555</td>\n",
              "      <td>-0.061</td>\n",
              "      <td>0.785</td>\n",
              "      <td>0.036</td>\n",
              "      <td>-0.075</td>\n",
              "      <td>-0.195</td>\n",
              "      <td>0.044</td>\n",
              "      <td>-0.456</td>\n",
              "      <td>-0.049</td>\n",
              "      <td>-0.092</td>\n",
              "      <td>-0.045</td>\n",
              "      <td>-0.051</td>\n",
              "      <td>110.12</td>\n",
              "      <td>0</td>\n",
              "    </tr>\n",
              "    <tr>\n",
              "      <th>54130</th>\n",
              "      <td>46298.0</td>\n",
              "      <td>-0.306</td>\n",
              "      <td>-0.608</td>\n",
              "      <td>1.544</td>\n",
              "      <td>-0.820</td>\n",
              "      <td>-1.410</td>\n",
              "      <td>0.365</td>\n",
              "      <td>0.013</td>\n",
              "      <td>0.164</td>\n",
              "      <td>-1.349</td>\n",
              "      <td>0.417</td>\n",
              "      <td>1.699</td>\n",
              "      <td>0.167</td>\n",
              "      <td>0.772</td>\n",
              "      <td>-0.330</td>\n",
              "      <td>0.612</td>\n",
              "      <td>0.966</td>\n",
              "      <td>0.311</td>\n",
              "      <td>-0.598</td>\n",
              "      <td>0.775</td>\n",
              "      <td>0.615</td>\n",
              "      <td>0.767</td>\n",
              "      <td>1.892</td>\n",
              "      <td>0.463</td>\n",
              "      <td>0.262</td>\n",
              "      <td>-1.037</td>\n",
              "      <td>-0.152</td>\n",
              "      <td>0.212</td>\n",
              "      <td>0.229</td>\n",
              "      <td>198.00</td>\n",
              "      <td>0</td>\n",
              "    </tr>\n",
              "  </tbody>\n",
              "</table>\n",
              "</div>"
            ],
            "text/plain": [
              "            Time     V1     V2     V3  ...    V27    V28  Amount  Class\n",
              "148752   90174.0  0.043  1.008  0.414  ...  0.222  0.092    9.99      0\n",
              "150217   92811.0 -1.478 -0.048  2.593  ...  0.176 -0.056   28.00      0\n",
              "88887    62337.0  1.128  0.142 -0.014  ...  0.021  0.022   61.90      0\n",
              "226956  144875.0  1.830 -0.576 -1.262  ... -0.045 -0.051  110.12      0\n",
              "54130    46298.0 -0.306 -0.608  1.544  ...  0.212  0.229  198.00      0\n",
              "\n",
              "[5 rows x 31 columns]"
            ]
          },
          "metadata": {},
          "execution_count": 442
        }
      ]
    },
    {
      "cell_type": "markdown",
      "metadata": {
        "id": "7hziuIa0Layh"
      },
      "source": [
        ""
      ]
    },
    {
      "cell_type": "markdown",
      "metadata": {
        "id": "dOI7lZbxR39L"
      },
      "source": [
        "Dos columnas Time y Amount con sus datos de precision no normalizadas\n"
      ]
    },
    {
      "cell_type": "code",
      "metadata": {
        "id": "acfZocW9R_NS",
        "colab": {
          "base_uri": "https://localhost:8080/",
          "height": 294
        },
        "outputId": "0fa6b7f6-d592-4755-e7e1-a129d690299b"
      },
      "source": [
        "#resumen numérico -> sólo columnas de interés no anonimizadas\n",
        "pd.set_option('precision', 3)\n",
        "df.loc[:, ['Time', 'Amount']].describe()"
      ],
      "execution_count": 443,
      "outputs": [
        {
          "output_type": "execute_result",
          "data": {
            "text/html": [
              "<div>\n",
              "<style scoped>\n",
              "    .dataframe tbody tr th:only-of-type {\n",
              "        vertical-align: middle;\n",
              "    }\n",
              "\n",
              "    .dataframe tbody tr th {\n",
              "        vertical-align: top;\n",
              "    }\n",
              "\n",
              "    .dataframe thead th {\n",
              "        text-align: right;\n",
              "    }\n",
              "</style>\n",
              "<table border=\"1\" class=\"dataframe\">\n",
              "  <thead>\n",
              "    <tr style=\"text-align: right;\">\n",
              "      <th></th>\n",
              "      <th>Time</th>\n",
              "      <th>Amount</th>\n",
              "    </tr>\n",
              "  </thead>\n",
              "  <tbody>\n",
              "    <tr>\n",
              "      <th>count</th>\n",
              "      <td>284807.000</td>\n",
              "      <td>284807.000</td>\n",
              "    </tr>\n",
              "    <tr>\n",
              "      <th>mean</th>\n",
              "      <td>94813.860</td>\n",
              "      <td>88.350</td>\n",
              "    </tr>\n",
              "    <tr>\n",
              "      <th>std</th>\n",
              "      <td>47488.146</td>\n",
              "      <td>250.120</td>\n",
              "    </tr>\n",
              "    <tr>\n",
              "      <th>min</th>\n",
              "      <td>0.000</td>\n",
              "      <td>0.000</td>\n",
              "    </tr>\n",
              "    <tr>\n",
              "      <th>25%</th>\n",
              "      <td>54201.500</td>\n",
              "      <td>5.600</td>\n",
              "    </tr>\n",
              "    <tr>\n",
              "      <th>50%</th>\n",
              "      <td>84692.000</td>\n",
              "      <td>22.000</td>\n",
              "    </tr>\n",
              "    <tr>\n",
              "      <th>75%</th>\n",
              "      <td>139320.500</td>\n",
              "      <td>77.165</td>\n",
              "    </tr>\n",
              "    <tr>\n",
              "      <th>max</th>\n",
              "      <td>172792.000</td>\n",
              "      <td>25691.160</td>\n",
              "    </tr>\n",
              "  </tbody>\n",
              "</table>\n",
              "</div>"
            ],
            "text/plain": [
              "             Time      Amount\n",
              "count  284807.000  284807.000\n",
              "mean    94813.860      88.350\n",
              "std     47488.146     250.120\n",
              "min         0.000       0.000\n",
              "25%     54201.500       5.600\n",
              "50%     84692.000      22.000\n",
              "75%    139320.500      77.165\n",
              "max    172792.000   25691.160"
            ]
          },
          "metadata": {},
          "execution_count": 443
        }
      ]
    },
    {
      "cell_type": "markdown",
      "metadata": {
        "id": "K-AVEFj4llMf"
      },
      "source": [
        "visualizaciones de tiempo y cantidad"
      ]
    },
    {
      "cell_type": "code",
      "metadata": {
        "colab": {
          "base_uri": "https://localhost:8080/",
          "height": 586
        },
        "id": "Z49UenR0T40y",
        "outputId": "f85f96c1-8dd0-4194-db21-752e83983557"
      },
      "source": [
        "plt.figure(figsize=(10,8))\n",
        "plt.title('Distribution of Time Feature')\n",
        "sns.distplot(df.Time,color='green')"
      ],
      "execution_count": 444,
      "outputs": [
        {
          "output_type": "stream",
          "name": "stderr",
          "text": [
            "/usr/local/lib/python3.7/dist-packages/seaborn/distributions.py:2619: FutureWarning: `distplot` is a deprecated function and will be removed in a future version. Please adapt your code to use either `displot` (a figure-level function with similar flexibility) or `histplot` (an axes-level function for histograms).\n",
            "  warnings.warn(msg, FutureWarning)\n"
          ]
        },
        {
          "output_type": "execute_result",
          "data": {
            "text/plain": [
              "<matplotlib.axes._subplots.AxesSubplot at 0x7f53930f6050>"
            ]
          },
          "metadata": {},
          "execution_count": 444
        },
        {
          "output_type": "display_data",
          "data": {
            "image/png": "[encoded data removed]",
            "text/plain": [
              "<Figure size 720x576 with 1 Axes>"
            ]
          },
          "metadata": {
            "needs_background": "light"
          }
        }
      ]
    },
    {
      "cell_type": "markdown",
      "metadata": {
        "id": "-u5vhHKQU0hd"
      },
      "source": [
        "En ciertos momentos del tiempo se evidencia grandes cantidades de fraudes"
      ]
    },
    {
      "cell_type": "code",
      "metadata": {
        "colab": {
          "base_uri": "https://localhost:8080/",
          "height": 981
        },
        "id": "rRWvLGGuUjwW",
        "outputId": "b29b70b7-753a-42e0-8ec1-98625a8f8b0b"
      },
      "source": [
        "corr = df.corr()\n",
        "\n",
        "plt.figure(figsize=(13,16))\n",
        "heat = sns.heatmap(data=corr)\n",
        "plt.title('Mapa térmico de la correlación')"
      ],
      "execution_count": 445,
      "outputs": [
        {
          "output_type": "execute_result",
          "data": {
            "text/plain": [
              "Text(0.5, 1.0, 'Mapa térmico de la correlación')"
            ]
          },
          "metadata": {},
          "execution_count": 445
        },
        {
          "output_type": "display_data",
          "data": {
            "image/png": "[encoded data removed]",
            "text/plain": [
              "<Figure size 936x1152 with 2 Axes>"
            ]
          },
          "metadata": {
            "needs_background": "light"
          }
        }
      ]
    },
    {
      "cell_type": "code",
      "metadata": {
        "colab": {
          "base_uri": "https://localhost:8080/",
          "height": 194
        },
        "id": "JXl7keQbcO6L",
        "outputId": "9b407b56-a7c9-4ac2-8209-a046bb6b9946"
      },
      "source": [
        "X = new_dataset.drop(columns='Class', axis=1)\n",
        "Y = new_dataset['Class']\n",
        "\n",
        "new_dataset.groupby('Class').mean()\n"
      ],
      "execution_count": 446,
      "outputs": [
        {
          "output_type": "execute_result",
          "data": {
            "text/html": [
              "<div>\n",
              "<style scoped>\n",
              "    .dataframe tbody tr th:only-of-type {\n",
              "        vertical-align: middle;\n",
              "    }\n",
              "\n",
              "    .dataframe tbody tr th {\n",
              "        vertical-align: top;\n",
              "    }\n",
              "\n",
              "    .dataframe thead th {\n",
              "        text-align: right;\n",
              "    }\n",
              "</style>\n",
              "<table border=\"1\" class=\"dataframe\">\n",
              "  <thead>\n",
              "    <tr style=\"text-align: right;\">\n",
              "      <th></th>\n",
              "      <th>Time</th>\n",
              "      <th>V1</th>\n",
              "      <th>V2</th>\n",
              "      <th>V3</th>\n",
              "      <th>V4</th>\n",
              "      <th>V5</th>\n",
              "      <th>V6</th>\n",
              "      <th>V7</th>\n",
              "      <th>V8</th>\n",
              "      <th>V9</th>\n",
              "      <th>V10</th>\n",
              "      <th>V11</th>\n",
              "      <th>V12</th>\n",
              "      <th>V13</th>\n",
              "      <th>V14</th>\n",
              "      <th>V15</th>\n",
              "      <th>V16</th>\n",
              "      <th>V17</th>\n",
              "      <th>V18</th>\n",
              "      <th>V19</th>\n",
              "      <th>V20</th>\n",
              "      <th>V21</th>\n",
              "      <th>V22</th>\n",
              "      <th>V23</th>\n",
              "      <th>V24</th>\n",
              "      <th>V25</th>\n",
              "      <th>V26</th>\n",
              "      <th>V27</th>\n",
              "      <th>V28</th>\n",
              "      <th>Amount</th>\n",
              "    </tr>\n",
              "    <tr>\n",
              "      <th>Class</th>\n",
              "      <th></th>\n",
              "      <th></th>\n",
              "      <th></th>\n",
              "      <th></th>\n",
              "      <th></th>\n",
              "      <th></th>\n",
              "      <th></th>\n",
              "      <th></th>\n",
              "      <th></th>\n",
              "      <th></th>\n",
              "      <th></th>\n",
              "      <th></th>\n",
              "      <th></th>\n",
              "      <th></th>\n",
              "      <th></th>\n",
              "      <th></th>\n",
              "      <th></th>\n",
              "      <th></th>\n",
              "      <th></th>\n",
              "      <th></th>\n",
              "      <th></th>\n",
              "      <th></th>\n",
              "      <th></th>\n",
              "      <th></th>\n",
              "      <th></th>\n",
              "      <th></th>\n",
              "      <th></th>\n",
              "      <th></th>\n",
              "      <th></th>\n",
              "      <th></th>\n",
              "    </tr>\n",
              "  </thead>\n",
              "  <tbody>\n",
              "    <tr>\n",
              "      <th>0</th>\n",
              "      <td>94952.545</td>\n",
              "      <td>0.123</td>\n",
              "      <td>0.030</td>\n",
              "      <td>0.011</td>\n",
              "      <td>-0.042</td>\n",
              "      <td>-0.041</td>\n",
              "      <td>-0.075</td>\n",
              "      <td>0.016</td>\n",
              "      <td>0.056</td>\n",
              "      <td>0.009</td>\n",
              "      <td>0.023</td>\n",
              "      <td>-0.043</td>\n",
              "      <td>0.025</td>\n",
              "      <td>6.618e-04</td>\n",
              "      <td>-0.015</td>\n",
              "      <td>-0.027</td>\n",
              "      <td>-0.035</td>\n",
              "      <td>0.052</td>\n",
              "      <td>-0.037</td>\n",
              "      <td>0.029</td>\n",
              "      <td>-0.031</td>\n",
              "      <td>0.015</td>\n",
              "      <td>0.007</td>\n",
              "      <td>0.015</td>\n",
              "      <td>0.021</td>\n",
              "      <td>-0.036</td>\n",
              "      <td>-0.019</td>\n",
              "      <td>0.004</td>\n",
              "      <td>-0.004</td>\n",
              "      <td>70.952</td>\n",
              "    </tr>\n",
              "    <tr>\n",
              "      <th>1</th>\n",
              "      <td>80746.807</td>\n",
              "      <td>-4.772</td>\n",
              "      <td>3.624</td>\n",
              "      <td>-7.033</td>\n",
              "      <td>4.542</td>\n",
              "      <td>-3.151</td>\n",
              "      <td>-1.398</td>\n",
              "      <td>-5.569</td>\n",
              "      <td>0.571</td>\n",
              "      <td>-2.581</td>\n",
              "      <td>-5.677</td>\n",
              "      <td>3.800</td>\n",
              "      <td>-6.259</td>\n",
              "      <td>-1.093e-01</td>\n",
              "      <td>-6.972</td>\n",
              "      <td>-0.093</td>\n",
              "      <td>-4.140</td>\n",
              "      <td>-6.666</td>\n",
              "      <td>-2.246</td>\n",
              "      <td>0.681</td>\n",
              "      <td>0.372</td>\n",
              "      <td>0.714</td>\n",
              "      <td>0.014</td>\n",
              "      <td>-0.040</td>\n",
              "      <td>-0.105</td>\n",
              "      <td>0.041</td>\n",
              "      <td>0.052</td>\n",
              "      <td>0.171</td>\n",
              "      <td>0.076</td>\n",
              "      <td>122.211</td>\n",
              "    </tr>\n",
              "  </tbody>\n",
              "</table>\n",
              "</div>"
            ],
            "text/plain": [
              "            Time     V1     V2     V3  ...    V26    V27    V28   Amount\n",
              "Class                                  ...                              \n",
              "0      94952.545  0.123  0.030  0.011  ... -0.019  0.004 -0.004   70.952\n",
              "1      80746.807 -4.772  3.624 -7.033  ...  0.052  0.171  0.076  122.211\n",
              "\n",
              "[2 rows x 30 columns]"
            ]
          },
          "metadata": {},
          "execution_count": 446
        }
      ]
    },
    {
      "cell_type": "markdown",
      "metadata": {
        "id": "fi517nY1ctqK"
      },
      "source": [
        "Entrenamiento del modelo\n",
        "\n",
        "**Regresión logística**\n",
        "Dividir los datos en datos de entrenamiento y datos de prueba\n"
      ]
    },
    {
      "cell_type": "code",
      "metadata": {
        "id": "mhw6WkPMoYie"
      },
      "source": [
        ""
      ],
      "execution_count": 446,
      "outputs": []
    },
    {
      "cell_type": "code",
      "metadata": {
        "colab": {
          "base_uri": "https://localhost:8080/"
        },
        "id": "3VNj_QJNaNYb",
        "outputId": "b354f452-e16b-4082-ce3a-79ec9ce8079c"
      },
      "source": [
        "X_train, X_test, y_train, y_test = train_test_split(df.drop('Class',1) , df['Class'], test_size=0.5, random_state=0)\n",
        "print(X.shape, X_train.shape, X_test.shape )\n"
      ],
      "execution_count": 447,
      "outputs": [
        {
          "output_type": "stream",
          "name": "stdout",
          "text": [
            "(984, 30) (142403, 30) (142404, 30)\n"
          ]
        }
      ]
    },
    {
      "cell_type": "code",
      "metadata": {
        "colab": {
          "base_uri": "https://localhost:8080/"
        },
        "id": "X9EdZW4HwaBU",
        "outputId": "b1f6a58b-07a8-4a7c-edec-20c6adcf58de"
      },
      "source": [
        "y_test.value_counts()/y_test.count()"
      ],
      "execution_count": 448,
      "outputs": [
        {
          "output_type": "execute_result",
          "data": {
            "text/plain": [
              "0    0.998\n",
              "1    0.002\n",
              "Name: Class, dtype: float64"
            ]
          },
          "metadata": {},
          "execution_count": 448
        }
      ]
    },
    {
      "cell_type": "code",
      "metadata": {
        "colab": {
          "base_uri": "https://localhost:8080/"
        },
        "id": "8o9hxUhCwa8N",
        "outputId": "a7bf974a-f7fb-4e5b-b0d6-d3ffff5d5d63"
      },
      "source": [
        "y_train.value_counts()/y_train.count()"
      ],
      "execution_count": 449,
      "outputs": [
        {
          "output_type": "execute_result",
          "data": {
            "text/plain": [
              "0    0.998\n",
              "1    0.002\n",
              "Name: Class, dtype: float64"
            ]
          },
          "metadata": {},
          "execution_count": 449
        }
      ]
    },
    {
      "cell_type": "code",
      "metadata": {
        "id": "aeZByxQGpm5j"
      },
      "source": [
        "X_train_normal = X_train[y_train==0]\n",
        "X_train_fraud = X_train[y_train==1]"
      ],
      "execution_count": 450,
      "outputs": []
    },
    {
      "cell_type": "code",
      "metadata": {
        "id": "X8xufgLLaA_w"
      },
      "source": [
        "model = LogisticRegression()"
      ],
      "execution_count": 451,
      "outputs": []
    },
    {
      "cell_type": "code",
      "metadata": {
        "id": "BH8sVhsU2cu0"
      },
      "source": [
        "input_layer = Input(shape=(30, ))\n",
        "encoded = Dense(12,activation='tanh')(input_layer)\n",
        "decoded = Dense(30,activation='sigmoid')(encoded)\n",
        "autoencoder = Model(input_layer,decoded)"
      ],
      "execution_count": 456,
      "outputs": []
    },
    {
      "cell_type": "code",
      "metadata": {
        "colab": {
          "base_uri": "https://localhost:8080/"
        },
        "id": "rGNabmKEaCWx",
        "outputId": "74a04c69-f2fc-42fe-b688-c48b26842e16"
      },
      "source": [
        "# Entrenamiento del modelo de regresión logística con datos de entrenamiento\n",
        "model.fit(X_train,  y_train)\n"
      ],
      "execution_count": 453,
      "outputs": [
        {
          "output_type": "stream",
          "name": "stderr",
          "text": [
            "/usr/local/lib/python3.7/dist-packages/sklearn/linear_model/_logistic.py:940: ConvergenceWarning: lbfgs failed to converge (status=1):\n",
            "STOP: TOTAL NO. of ITERATIONS REACHED LIMIT.\n",
            "\n",
            "Increase the number of iterations (max_iter) or scale the data as shown in:\n",
            "    https://scikit-learn.org/stable/modules/preprocessing.html\n",
            "Please also refer to the documentation for alternative solver options:\n",
            "    https://scikit-learn.org/stable/modules/linear_model.html#logistic-regression\n",
            "  extra_warning_msg=_LOGISTIC_SOLVER_CONVERGENCE_MSG)\n"
          ]
        },
        {
          "output_type": "execute_result",
          "data": {
            "text/plain": [
              "LogisticRegression(C=1.0, class_weight=None, dual=False, fit_intercept=True,\n",
              "                   intercept_scaling=1, l1_ratio=None, max_iter=100,\n",
              "                   multi_class='auto', n_jobs=None, penalty='l2',\n",
              "                   random_state=None, solver='lbfgs', tol=0.0001, verbose=0,\n",
              "                   warm_start=False)"
            ]
          },
          "metadata": {},
          "execution_count": 453
        }
      ]
    },
    {
      "cell_type": "code",
      "metadata": {
        "id": "rK_IYsAg-U6r"
      },
      "source": [
        ""
      ],
      "execution_count": 453,
      "outputs": []
    },
    {
      "cell_type": "code",
      "metadata": {
        "colab": {
          "base_uri": "https://localhost:8080/",
          "height": 171
        },
        "id": "UXENlEQtxH7J",
        "outputId": "2474095c-86ef-472d-9282-4470ed43d67b"
      },
      "source": [
        "predictions = autoencoder.predict(X_train)\n",
        "mse = np.mean(np.power(X_train - predictions,1), axis=1)\n",
        "error_df = pd.DataFrame({'reconstruction_error': mse,\n",
        "                        'true_class': y_train})\n",
        "error_df.groupby('true_class').describe()"
      ],
      "execution_count": 457,
      "outputs": [
        {
          "output_type": "execute_result",
          "data": {
            "text/html": [
              "<div>\n",
              "<style scoped>\n",
              "    .dataframe tbody tr th:only-of-type {\n",
              "        vertical-align: middle;\n",
              "    }\n",
              "\n",
              "    .dataframe tbody tr th {\n",
              "        vertical-align: top;\n",
              "    }\n",
              "\n",
              "    .dataframe thead tr th {\n",
              "        text-align: left;\n",
              "    }\n",
              "\n",
              "    .dataframe thead tr:last-of-type th {\n",
              "        text-align: right;\n",
              "    }\n",
              "</style>\n",
              "<table border=\"1\" class=\"dataframe\">\n",
              "  <thead>\n",
              "    <tr>\n",
              "      <th></th>\n",
              "      <th colspan=\"8\" halign=\"left\">reconstruction_error</th>\n",
              "    </tr>\n",
              "    <tr>\n",
              "      <th></th>\n",
              "      <th>count</th>\n",
              "      <th>mean</th>\n",
              "      <th>std</th>\n",
              "      <th>min</th>\n",
              "      <th>25%</th>\n",
              "      <th>50%</th>\n",
              "      <th>75%</th>\n",
              "      <th>max</th>\n",
              "    </tr>\n",
              "    <tr>\n",
              "      <th>true_class</th>\n",
              "      <th></th>\n",
              "      <th></th>\n",
              "      <th></th>\n",
              "      <th></th>\n",
              "      <th></th>\n",
              "      <th></th>\n",
              "      <th></th>\n",
              "      <th></th>\n",
              "    </tr>\n",
              "  </thead>\n",
              "  <tbody>\n",
              "    <tr>\n",
              "      <th>0</th>\n",
              "      <td>142154.0</td>\n",
              "      <td>3163.279</td>\n",
              "      <td>1583.295</td>\n",
              "      <td>-0.258</td>\n",
              "      <td>1807.523</td>\n",
              "      <td>2824.593</td>\n",
              "      <td>4647.364</td>\n",
              "      <td>5783.059</td>\n",
              "    </tr>\n",
              "    <tr>\n",
              "      <th>1</th>\n",
              "      <td>249.0</td>\n",
              "      <td>2687.126</td>\n",
              "      <td>1595.570</td>\n",
              "      <td>12.577</td>\n",
              "      <td>1373.351</td>\n",
              "      <td>2484.366</td>\n",
              "      <td>4206.765</td>\n",
              "      <td>5671.989</td>\n",
              "    </tr>\n",
              "  </tbody>\n",
              "</table>\n",
              "</div>"
            ],
            "text/plain": [
              "           reconstruction_error            ...                    \n",
              "                          count      mean  ...       75%       max\n",
              "true_class                                 ...                    \n",
              "0                      142154.0  3163.279  ...  4647.364  5783.059\n",
              "1                         249.0  2687.126  ...  4206.765  5671.989\n",
              "\n",
              "[2 rows x 8 columns]"
            ]
          },
          "metadata": {},
          "execution_count": 457
        }
      ]
    },
    {
      "cell_type": "code",
      "metadata": {
        "id": "T6Z3sIrVs3Bt"
      },
      "source": [
        ""
      ],
      "execution_count": null,
      "outputs": []
    },
    {
      "cell_type": "code",
      "metadata": {
        "id": "uPIOuq6NsffL"
      },
      "source": [
        "df = df.drop(['V4'], 1)\n",
        "df['Amount'] = StandardScaler().fit_transform(df['Amount'].values.reshape(-1, 1))"
      ],
      "execution_count": 458,
      "outputs": []
    },
    {
      "cell_type": "code",
      "metadata": {
        "id": "dj6DqKIboIbB"
      },
      "source": [
        "\n",
        "\n"
      ],
      "execution_count": null,
      "outputs": []
    },
    {
      "cell_type": "code",
      "metadata": {
        "id": "VBrt0lItpTsy"
      },
      "source": [
        "autoencoder.compile(optimizer='adam',loss='mean_squared_error')"
      ],
      "execution_count": 459,
      "outputs": []
    },
    {
      "cell_type": "code",
      "metadata": {
        "id": "Qv0eJceYxbJu"
      },
      "source": [
        "test_predictions=autoencoder.predict(X_test)\n",
        "mse = np.mean(np.power(X_test - test_predictions, 2), axis=1)\n",
        "y_pred=[(lambda er: 1 if er>=11.078922  else 0)(er) for er in mse]"
      ],
      "execution_count": 460,
      "outputs": []
    },
    {
      "cell_type": "code",
      "metadata": {
        "id": "FKUihu4NxjVc"
      },
      "source": [
        "conf_matrix = metrics.confusion_matrix(y_test,y_pred)\n",
        "\n",
        "ax=plt.subplot()\n",
        "sns.heatmap(conf_matrix,annot=True,ax=ax,fmt='g')#annot=True to annotate cells, fmt='g' numbers not scientific form\n",
        "ax.set_xlabel('Predicted labels'); ax.set_ylabel('True labels')\n",
        "ax.set_title('Confusion Matrix'); \n",
        "ax.xaxis.set_ticklabels(['Normal', 'Fraud']); ax.yaxis.set_ticklabels(['Normal', 'Fraud']);\n",
        "ax.set(yticks=[0, 2], \n",
        "       xticks=[0.5, 1.5])\n",
        "ax.yaxis.set_major_locator(ticker.IndexLocator(base=1, offset=0.5))"
      ],
      "execution_count": null,
      "outputs": []
    },
    {
      "cell_type": "code",
      "metadata": {
        "id": "F2INQqx7ylHq"
      },
      "source": [
        "\n"
      ],
      "execution_count": null,
      "outputs": []
    },
    {
      "cell_type": "code",
      "metadata": {
        "id": "kbuGTMCozLnq"
      },
      "source": [
        "encoder_all = Model(input_layer_all,encoded_all)\n",
        "#enc_all = encoder_all.predict(X_train)"
      ],
      "execution_count": null,
      "outputs": []
    },
    {
      "cell_type": "code",
      "metadata": {
        "id": "WWKY5N27uyF3"
      },
      "source": [
        "from sklearn.neighbors import KNeighborsClassifier"
      ],
      "execution_count": null,
      "outputs": []
    },
    {
      "cell_type": "code",
      "metadata": {
        "id": "_PAkjTRfpHEq"
      },
      "source": [
        "knn_model = KNeighborsClassifier(n_neighbors=9)\n",
        "knn_model.fit(enc_all,y_train)\n"
      ],
      "execution_count": null,
      "outputs": []
    },
    {
      "cell_type": "code",
      "metadata": {
        "id": "5MM8RPEvzXt4"
      },
      "source": [
        "# Train the model using the training sets\n",
        "knn_model.fit(enc_all,y_train)"
      ],
      "execution_count": null,
      "outputs": []
    },
    {
      "cell_type": "code",
      "metadata": {
        "id": "GCLIVYKzzgO_",
        "colab": {
          "base_uri": "https://localhost:8080/",
          "height": 761
        },
        "outputId": "eddc7932-a3c7-4d36-a322-4a7f315a1507"
      },
      "source": [
        "%%time\n",
        "knn_predicted= knn_model.predict(encoder_all.predict(X_test))"
      ],
      "execution_count": 455,
      "outputs": [
        {
          "output_type": "error",
          "ename": "ValueError",
          "evalue": "ignored",
          "traceback": [
            "\u001b[0;31m---------------------------------------------------------------------------\u001b[0m",
            "\u001b[0;31mValueError\u001b[0m                                Traceback (most recent call last)",
            "\u001b[0;32m<ipython-input-455-7cefa2124218>\u001b[0m in \u001b[0;36m<module>\u001b[0;34m()\u001b[0m\n\u001b[0;32m----> 1\u001b[0;31m \u001b[0mget_ipython\u001b[0m\u001b[0;34m(\u001b[0m\u001b[0;34m)\u001b[0m\u001b[0;34m.\u001b[0m\u001b[0mrun_cell_magic\u001b[0m\u001b[0;34m(\u001b[0m\u001b[0;34m'time'\u001b[0m\u001b[0;34m,\u001b[0m \u001b[0;34m''\u001b[0m\u001b[0;34m,\u001b[0m \u001b[0;34m'knn_predicted= knn_model.predict(encoder_all.predict(X_test))'\u001b[0m\u001b[0;34m)\u001b[0m\u001b[0;34m\u001b[0m\u001b[0;34m\u001b[0m\u001b[0m\n\u001b[0m",
            "\u001b[0;32m/usr/local/lib/python3.7/dist-packages/IPython/core/interactiveshell.py\u001b[0m in \u001b[0;36mrun_cell_magic\u001b[0;34m(self, magic_name, line, cell)\u001b[0m\n\u001b[1;32m   2115\u001b[0m             \u001b[0mmagic_arg_s\u001b[0m \u001b[0;34m=\u001b[0m \u001b[0mself\u001b[0m\u001b[0;34m.\u001b[0m\u001b[0mvar_expand\u001b[0m\u001b[0;34m(\u001b[0m\u001b[0mline\u001b[0m\u001b[0;34m,\u001b[0m \u001b[0mstack_depth\u001b[0m\u001b[0;34m)\u001b[0m\u001b[0;34m\u001b[0m\u001b[0;34m\u001b[0m\u001b[0m\n\u001b[1;32m   2116\u001b[0m             \u001b[0;32mwith\u001b[0m \u001b[0mself\u001b[0m\u001b[0;34m.\u001b[0m\u001b[0mbuiltin_trap\u001b[0m\u001b[0;34m:\u001b[0m\u001b[0;34m\u001b[0m\u001b[0;34m\u001b[0m\u001b[0m\n\u001b[0;32m-> 2117\u001b[0;31m                 \u001b[0mresult\u001b[0m \u001b[0;34m=\u001b[0m \u001b[0mfn\u001b[0m\u001b[0;34m(\u001b[0m\u001b[0mmagic_arg_s\u001b[0m\u001b[0;34m,\u001b[0m \u001b[0mcell\u001b[0m\u001b[0;34m)\u001b[0m\u001b[0;34m\u001b[0m\u001b[0;34m\u001b[0m\u001b[0m\n\u001b[0m\u001b[1;32m   2118\u001b[0m             \u001b[0;32mreturn\u001b[0m \u001b[0mresult\u001b[0m\u001b[0;34m\u001b[0m\u001b[0;34m\u001b[0m\u001b[0m\n\u001b[1;32m   2119\u001b[0m \u001b[0;34m\u001b[0m\u001b[0m\n",
            "\u001b[0;32m<decorator-gen-53>\u001b[0m in \u001b[0;36mtime\u001b[0;34m(self, line, cell, local_ns)\u001b[0m\n",
            "\u001b[0;32m/usr/local/lib/python3.7/dist-packages/IPython/core/magic.py\u001b[0m in \u001b[0;36m<lambda>\u001b[0;34m(f, *a, **k)\u001b[0m\n\u001b[1;32m    186\u001b[0m     \u001b[0;31m# but it's overkill for just that one bit of state.\u001b[0m\u001b[0;34m\u001b[0m\u001b[0;34m\u001b[0m\u001b[0;34m\u001b[0m\u001b[0m\n\u001b[1;32m    187\u001b[0m     \u001b[0;32mdef\u001b[0m \u001b[0mmagic_deco\u001b[0m\u001b[0;34m(\u001b[0m\u001b[0marg\u001b[0m\u001b[0;34m)\u001b[0m\u001b[0;34m:\u001b[0m\u001b[0;34m\u001b[0m\u001b[0;34m\u001b[0m\u001b[0m\n\u001b[0;32m--> 188\u001b[0;31m         \u001b[0mcall\u001b[0m \u001b[0;34m=\u001b[0m \u001b[0;32mlambda\u001b[0m \u001b[0mf\u001b[0m\u001b[0;34m,\u001b[0m \u001b[0;34m*\u001b[0m\u001b[0ma\u001b[0m\u001b[0;34m,\u001b[0m \u001b[0;34m**\u001b[0m\u001b[0mk\u001b[0m\u001b[0;34m:\u001b[0m \u001b[0mf\u001b[0m\u001b[0;34m(\u001b[0m\u001b[0;34m*\u001b[0m\u001b[0ma\u001b[0m\u001b[0;34m,\u001b[0m \u001b[0;34m**\u001b[0m\u001b[0mk\u001b[0m\u001b[0;34m)\u001b[0m\u001b[0;34m\u001b[0m\u001b[0;34m\u001b[0m\u001b[0m\n\u001b[0m\u001b[1;32m    189\u001b[0m \u001b[0;34m\u001b[0m\u001b[0m\n\u001b[1;32m    190\u001b[0m         \u001b[0;32mif\u001b[0m \u001b[0mcallable\u001b[0m\u001b[0;34m(\u001b[0m\u001b[0marg\u001b[0m\u001b[0;34m)\u001b[0m\u001b[0;34m:\u001b[0m\u001b[0;34m\u001b[0m\u001b[0;34m\u001b[0m\u001b[0m\n",
            "\u001b[0;32m/usr/local/lib/python3.7/dist-packages/IPython/core/magics/execution.py\u001b[0m in \u001b[0;36mtime\u001b[0;34m(self, line, cell, local_ns)\u001b[0m\n\u001b[1;32m   1191\u001b[0m         \u001b[0;32melse\u001b[0m\u001b[0;34m:\u001b[0m\u001b[0;34m\u001b[0m\u001b[0;34m\u001b[0m\u001b[0m\n\u001b[1;32m   1192\u001b[0m             \u001b[0mst\u001b[0m \u001b[0;34m=\u001b[0m \u001b[0mclock2\u001b[0m\u001b[0;34m(\u001b[0m\u001b[0;34m)\u001b[0m\u001b[0;34m\u001b[0m\u001b[0;34m\u001b[0m\u001b[0m\n\u001b[0;32m-> 1193\u001b[0;31m             \u001b[0mexec\u001b[0m\u001b[0;34m(\u001b[0m\u001b[0mcode\u001b[0m\u001b[0;34m,\u001b[0m \u001b[0mglob\u001b[0m\u001b[0;34m,\u001b[0m \u001b[0mlocal_ns\u001b[0m\u001b[0;34m)\u001b[0m\u001b[0;34m\u001b[0m\u001b[0;34m\u001b[0m\u001b[0m\n\u001b[0m\u001b[1;32m   1194\u001b[0m             \u001b[0mend\u001b[0m \u001b[0;34m=\u001b[0m \u001b[0mclock2\u001b[0m\u001b[0;34m(\u001b[0m\u001b[0;34m)\u001b[0m\u001b[0;34m\u001b[0m\u001b[0;34m\u001b[0m\u001b[0m\n\u001b[1;32m   1195\u001b[0m             \u001b[0mout\u001b[0m \u001b[0;34m=\u001b[0m \u001b[0;32mNone\u001b[0m\u001b[0;34m\u001b[0m\u001b[0;34m\u001b[0m\u001b[0m\n",
            "\u001b[0;32m<timed exec>\u001b[0m in \u001b[0;36m<module>\u001b[0;34m()\u001b[0m\n",
            "\u001b[0;32m/usr/local/lib/python3.7/dist-packages/keras/engine/training.py\u001b[0m in \u001b[0;36mpredict\u001b[0;34m(self, x, batch_size, verbose, steps, callbacks, max_queue_size, workers, use_multiprocessing)\u001b[0m\n\u001b[1;32m   1749\u001b[0m           \u001b[0;32mfor\u001b[0m \u001b[0mstep\u001b[0m \u001b[0;32min\u001b[0m \u001b[0mdata_handler\u001b[0m\u001b[0;34m.\u001b[0m\u001b[0msteps\u001b[0m\u001b[0;34m(\u001b[0m\u001b[0;34m)\u001b[0m\u001b[0;34m:\u001b[0m\u001b[0;34m\u001b[0m\u001b[0;34m\u001b[0m\u001b[0m\n\u001b[1;32m   1750\u001b[0m             \u001b[0mcallbacks\u001b[0m\u001b[0;34m.\u001b[0m\u001b[0mon_predict_batch_begin\u001b[0m\u001b[0;34m(\u001b[0m\u001b[0mstep\u001b[0m\u001b[0;34m)\u001b[0m\u001b[0;34m\u001b[0m\u001b[0;34m\u001b[0m\u001b[0m\n\u001b[0;32m-> 1751\u001b[0;31m             \u001b[0mtmp_batch_outputs\u001b[0m \u001b[0;34m=\u001b[0m \u001b[0mself\u001b[0m\u001b[0;34m.\u001b[0m\u001b[0mpredict_function\u001b[0m\u001b[0;34m(\u001b[0m\u001b[0miterator\u001b[0m\u001b[0;34m)\u001b[0m\u001b[0;34m\u001b[0m\u001b[0;34m\u001b[0m\u001b[0m\n\u001b[0m\u001b[1;32m   1752\u001b[0m             \u001b[0;32mif\u001b[0m \u001b[0mdata_handler\u001b[0m\u001b[0;34m.\u001b[0m\u001b[0mshould_sync\u001b[0m\u001b[0;34m:\u001b[0m\u001b[0;34m\u001b[0m\u001b[0;34m\u001b[0m\u001b[0m\n\u001b[1;32m   1753\u001b[0m               \u001b[0mcontext\u001b[0m\u001b[0;34m.\u001b[0m\u001b[0masync_wait\u001b[0m\u001b[0;34m(\u001b[0m\u001b[0;34m)\u001b[0m\u001b[0;34m\u001b[0m\u001b[0;34m\u001b[0m\u001b[0m\n",
            "\u001b[0;32m/usr/local/lib/python3.7/dist-packages/tensorflow/python/eager/def_function.py\u001b[0m in \u001b[0;36m__call__\u001b[0;34m(self, *args, **kwds)\u001b[0m\n\u001b[1;32m    883\u001b[0m \u001b[0;34m\u001b[0m\u001b[0m\n\u001b[1;32m    884\u001b[0m       \u001b[0;32mwith\u001b[0m \u001b[0mOptionalXlaContext\u001b[0m\u001b[0;34m(\u001b[0m\u001b[0mself\u001b[0m\u001b[0;34m.\u001b[0m\u001b[0m_jit_compile\u001b[0m\u001b[0;34m)\u001b[0m\u001b[0;34m:\u001b[0m\u001b[0;34m\u001b[0m\u001b[0;34m\u001b[0m\u001b[0m\n\u001b[0;32m--> 885\u001b[0;31m         \u001b[0mresult\u001b[0m \u001b[0;34m=\u001b[0m \u001b[0mself\u001b[0m\u001b[0;34m.\u001b[0m\u001b[0m_call\u001b[0m\u001b[0;34m(\u001b[0m\u001b[0;34m*\u001b[0m\u001b[0margs\u001b[0m\u001b[0;34m,\u001b[0m \u001b[0;34m**\u001b[0m\u001b[0mkwds\u001b[0m\u001b[0;34m)\u001b[0m\u001b[0;34m\u001b[0m\u001b[0;34m\u001b[0m\u001b[0m\n\u001b[0m\u001b[1;32m    886\u001b[0m \u001b[0;34m\u001b[0m\u001b[0m\n\u001b[1;32m    887\u001b[0m       \u001b[0mnew_tracing_count\u001b[0m \u001b[0;34m=\u001b[0m \u001b[0mself\u001b[0m\u001b[0;34m.\u001b[0m\u001b[0mexperimental_get_tracing_count\u001b[0m\u001b[0;34m(\u001b[0m\u001b[0;34m)\u001b[0m\u001b[0;34m\u001b[0m\u001b[0;34m\u001b[0m\u001b[0m\n",
            "\u001b[0;32m/usr/local/lib/python3.7/dist-packages/tensorflow/python/eager/def_function.py\u001b[0m in \u001b[0;36m_call\u001b[0;34m(self, *args, **kwds)\u001b[0m\n\u001b[1;32m    922\u001b[0m       \u001b[0;31m# In this case we have not created variables on the first call. So we can\u001b[0m\u001b[0;34m\u001b[0m\u001b[0;34m\u001b[0m\u001b[0;34m\u001b[0m\u001b[0m\n\u001b[1;32m    923\u001b[0m       \u001b[0;31m# run the first trace but we should fail if variables are created.\u001b[0m\u001b[0;34m\u001b[0m\u001b[0;34m\u001b[0m\u001b[0;34m\u001b[0m\u001b[0m\n\u001b[0;32m--> 924\u001b[0;31m       \u001b[0mresults\u001b[0m \u001b[0;34m=\u001b[0m \u001b[0mself\u001b[0m\u001b[0;34m.\u001b[0m\u001b[0m_stateful_fn\u001b[0m\u001b[0;34m(\u001b[0m\u001b[0;34m*\u001b[0m\u001b[0margs\u001b[0m\u001b[0;34m,\u001b[0m \u001b[0;34m**\u001b[0m\u001b[0mkwds\u001b[0m\u001b[0;34m)\u001b[0m\u001b[0;34m\u001b[0m\u001b[0;34m\u001b[0m\u001b[0m\n\u001b[0m\u001b[1;32m    925\u001b[0m       \u001b[0;32mif\u001b[0m \u001b[0mself\u001b[0m\u001b[0;34m.\u001b[0m\u001b[0m_created_variables\u001b[0m \u001b[0;32mand\u001b[0m \u001b[0;32mnot\u001b[0m \u001b[0mALLOW_DYNAMIC_VARIABLE_CREATION\u001b[0m\u001b[0;34m:\u001b[0m\u001b[0;34m\u001b[0m\u001b[0;34m\u001b[0m\u001b[0m\n\u001b[1;32m    926\u001b[0m         raise ValueError(\"Creating variables on a non-first call to a function\"\n",
            "\u001b[0;32m/usr/local/lib/python3.7/dist-packages/tensorflow/python/eager/function.py\u001b[0m in \u001b[0;36m__call__\u001b[0;34m(self, *args, **kwargs)\u001b[0m\n\u001b[1;32m   3036\u001b[0m     \u001b[0;32mwith\u001b[0m \u001b[0mself\u001b[0m\u001b[0;34m.\u001b[0m\u001b[0m_lock\u001b[0m\u001b[0;34m:\u001b[0m\u001b[0;34m\u001b[0m\u001b[0;34m\u001b[0m\u001b[0m\n\u001b[1;32m   3037\u001b[0m       (graph_function,\n\u001b[0;32m-> 3038\u001b[0;31m        filtered_flat_args) = self._maybe_define_function(args, kwargs)\n\u001b[0m\u001b[1;32m   3039\u001b[0m     return graph_function._call_flat(\n\u001b[1;32m   3040\u001b[0m         filtered_flat_args, captured_inputs=graph_function.captured_inputs)  # pylint: disable=protected-access\n",
            "\u001b[0;32m/usr/local/lib/python3.7/dist-packages/tensorflow/python/eager/function.py\u001b[0m in \u001b[0;36m_maybe_define_function\u001b[0;34m(self, args, kwargs)\u001b[0m\n\u001b[1;32m   3458\u001b[0m               call_context_key in self._function_cache.missed):\n\u001b[1;32m   3459\u001b[0m             return self._define_function_with_shape_relaxation(\n\u001b[0;32m-> 3460\u001b[0;31m                 args, kwargs, flat_args, filtered_flat_args, cache_key_context)\n\u001b[0m\u001b[1;32m   3461\u001b[0m \u001b[0;34m\u001b[0m\u001b[0m\n\u001b[1;32m   3462\u001b[0m           \u001b[0mself\u001b[0m\u001b[0;34m.\u001b[0m\u001b[0m_function_cache\u001b[0m\u001b[0;34m.\u001b[0m\u001b[0mmissed\u001b[0m\u001b[0;34m.\u001b[0m\u001b[0madd\u001b[0m\u001b[0;34m(\u001b[0m\u001b[0mcall_context_key\u001b[0m\u001b[0;34m)\u001b[0m\u001b[0;34m\u001b[0m\u001b[0;34m\u001b[0m\u001b[0m\n",
            "\u001b[0;32m/usr/local/lib/python3.7/dist-packages/tensorflow/python/eager/function.py\u001b[0m in \u001b[0;36m_define_function_with_shape_relaxation\u001b[0;34m(self, args, kwargs, flat_args, filtered_flat_args, cache_key_context)\u001b[0m\n\u001b[1;32m   3380\u001b[0m \u001b[0;34m\u001b[0m\u001b[0m\n\u001b[1;32m   3381\u001b[0m     graph_function = self._create_graph_function(\n\u001b[0;32m-> 3382\u001b[0;31m         args, kwargs, override_flat_arg_shapes=relaxed_arg_shapes)\n\u001b[0m\u001b[1;32m   3383\u001b[0m     \u001b[0mself\u001b[0m\u001b[0;34m.\u001b[0m\u001b[0m_function_cache\u001b[0m\u001b[0;34m.\u001b[0m\u001b[0marg_relaxed\u001b[0m\u001b[0;34m[\u001b[0m\u001b[0mrank_only_cache_key\u001b[0m\u001b[0;34m]\u001b[0m \u001b[0;34m=\u001b[0m \u001b[0mgraph_function\u001b[0m\u001b[0;34m\u001b[0m\u001b[0;34m\u001b[0m\u001b[0m\n\u001b[1;32m   3384\u001b[0m \u001b[0;34m\u001b[0m\u001b[0m\n",
            "\u001b[0;32m/usr/local/lib/python3.7/dist-packages/tensorflow/python/eager/function.py\u001b[0m in \u001b[0;36m_create_graph_function\u001b[0;34m(self, args, kwargs, override_flat_arg_shapes)\u001b[0m\n\u001b[1;32m   3306\u001b[0m             \u001b[0marg_names\u001b[0m\u001b[0;34m=\u001b[0m\u001b[0marg_names\u001b[0m\u001b[0;34m,\u001b[0m\u001b[0;34m\u001b[0m\u001b[0;34m\u001b[0m\u001b[0m\n\u001b[1;32m   3307\u001b[0m             \u001b[0moverride_flat_arg_shapes\u001b[0m\u001b[0;34m=\u001b[0m\u001b[0moverride_flat_arg_shapes\u001b[0m\u001b[0;34m,\u001b[0m\u001b[0;34m\u001b[0m\u001b[0;34m\u001b[0m\u001b[0m\n\u001b[0;32m-> 3308\u001b[0;31m             capture_by_value=self._capture_by_value),\n\u001b[0m\u001b[1;32m   3309\u001b[0m         \u001b[0mself\u001b[0m\u001b[0;34m.\u001b[0m\u001b[0m_function_attributes\u001b[0m\u001b[0;34m,\u001b[0m\u001b[0;34m\u001b[0m\u001b[0;34m\u001b[0m\u001b[0m\n\u001b[1;32m   3310\u001b[0m         \u001b[0mfunction_spec\u001b[0m\u001b[0;34m=\u001b[0m\u001b[0mself\u001b[0m\u001b[0;34m.\u001b[0m\u001b[0mfunction_spec\u001b[0m\u001b[0;34m,\u001b[0m\u001b[0;34m\u001b[0m\u001b[0;34m\u001b[0m\u001b[0m\n",
            "\u001b[0;32m/usr/local/lib/python3.7/dist-packages/tensorflow/python/framework/func_graph.py\u001b[0m in \u001b[0;36mfunc_graph_from_py_func\u001b[0;34m(name, python_func, args, kwargs, signature, func_graph, autograph, autograph_options, add_control_dependencies, arg_names, op_return_value, collections, capture_by_value, override_flat_arg_shapes, acd_record_initial_resource_uses)\u001b[0m\n\u001b[1;32m   1005\u001b[0m         \u001b[0m_\u001b[0m\u001b[0;34m,\u001b[0m \u001b[0moriginal_func\u001b[0m \u001b[0;34m=\u001b[0m \u001b[0mtf_decorator\u001b[0m\u001b[0;34m.\u001b[0m\u001b[0munwrap\u001b[0m\u001b[0;34m(\u001b[0m\u001b[0mpython_func\u001b[0m\u001b[0;34m)\u001b[0m\u001b[0;34m\u001b[0m\u001b[0;34m\u001b[0m\u001b[0m\n\u001b[1;32m   1006\u001b[0m \u001b[0;34m\u001b[0m\u001b[0m\n\u001b[0;32m-> 1007\u001b[0;31m       \u001b[0mfunc_outputs\u001b[0m \u001b[0;34m=\u001b[0m \u001b[0mpython_func\u001b[0m\u001b[0;34m(\u001b[0m\u001b[0;34m*\u001b[0m\u001b[0mfunc_args\u001b[0m\u001b[0;34m,\u001b[0m \u001b[0;34m**\u001b[0m\u001b[0mfunc_kwargs\u001b[0m\u001b[0;34m)\u001b[0m\u001b[0;34m\u001b[0m\u001b[0;34m\u001b[0m\u001b[0m\n\u001b[0m\u001b[1;32m   1008\u001b[0m \u001b[0;34m\u001b[0m\u001b[0m\n\u001b[1;32m   1009\u001b[0m       \u001b[0;31m# invariant: `func_outputs` contains only Tensors, CompositeTensors,\u001b[0m\u001b[0;34m\u001b[0m\u001b[0;34m\u001b[0m\u001b[0;34m\u001b[0m\u001b[0m\n",
            "\u001b[0;32m/usr/local/lib/python3.7/dist-packages/tensorflow/python/eager/def_function.py\u001b[0m in \u001b[0;36mwrapped_fn\u001b[0;34m(*args, **kwds)\u001b[0m\n\u001b[1;32m    666\u001b[0m         \u001b[0;31m# the function a weak reference to itself to avoid a reference cycle.\u001b[0m\u001b[0;34m\u001b[0m\u001b[0;34m\u001b[0m\u001b[0;34m\u001b[0m\u001b[0m\n\u001b[1;32m    667\u001b[0m         \u001b[0;32mwith\u001b[0m \u001b[0mOptionalXlaContext\u001b[0m\u001b[0;34m(\u001b[0m\u001b[0mcompile_with_xla\u001b[0m\u001b[0;34m)\u001b[0m\u001b[0;34m:\u001b[0m\u001b[0;34m\u001b[0m\u001b[0;34m\u001b[0m\u001b[0m\n\u001b[0;32m--> 668\u001b[0;31m           \u001b[0mout\u001b[0m \u001b[0;34m=\u001b[0m \u001b[0mweak_wrapped_fn\u001b[0m\u001b[0;34m(\u001b[0m\u001b[0;34m)\u001b[0m\u001b[0;34m.\u001b[0m\u001b[0m__wrapped__\u001b[0m\u001b[0;34m(\u001b[0m\u001b[0;34m*\u001b[0m\u001b[0margs\u001b[0m\u001b[0;34m,\u001b[0m \u001b[0;34m**\u001b[0m\u001b[0mkwds\u001b[0m\u001b[0;34m)\u001b[0m\u001b[0;34m\u001b[0m\u001b[0;34m\u001b[0m\u001b[0m\n\u001b[0m\u001b[1;32m    669\u001b[0m         \u001b[0;32mreturn\u001b[0m \u001b[0mout\u001b[0m\u001b[0;34m\u001b[0m\u001b[0;34m\u001b[0m\u001b[0m\n\u001b[1;32m    670\u001b[0m \u001b[0;34m\u001b[0m\u001b[0m\n",
            "\u001b[0;32m/usr/local/lib/python3.7/dist-packages/tensorflow/python/framework/func_graph.py\u001b[0m in \u001b[0;36mwrapper\u001b[0;34m(*args, **kwargs)\u001b[0m\n\u001b[1;32m    992\u001b[0m           \u001b[0;32mexcept\u001b[0m \u001b[0mException\u001b[0m \u001b[0;32mas\u001b[0m \u001b[0me\u001b[0m\u001b[0;34m:\u001b[0m  \u001b[0;31m# pylint:disable=broad-except\u001b[0m\u001b[0;34m\u001b[0m\u001b[0;34m\u001b[0m\u001b[0m\n\u001b[1;32m    993\u001b[0m             \u001b[0;32mif\u001b[0m \u001b[0mhasattr\u001b[0m\u001b[0;34m(\u001b[0m\u001b[0me\u001b[0m\u001b[0;34m,\u001b[0m \u001b[0;34m\"ag_error_metadata\"\u001b[0m\u001b[0;34m)\u001b[0m\u001b[0;34m:\u001b[0m\u001b[0;34m\u001b[0m\u001b[0;34m\u001b[0m\u001b[0m\n\u001b[0;32m--> 994\u001b[0;31m               \u001b[0;32mraise\u001b[0m \u001b[0me\u001b[0m\u001b[0;34m.\u001b[0m\u001b[0mag_error_metadata\u001b[0m\u001b[0;34m.\u001b[0m\u001b[0mto_exception\u001b[0m\u001b[0;34m(\u001b[0m\u001b[0me\u001b[0m\u001b[0;34m)\u001b[0m\u001b[0;34m\u001b[0m\u001b[0;34m\u001b[0m\u001b[0m\n\u001b[0m\u001b[1;32m    995\u001b[0m             \u001b[0;32melse\u001b[0m\u001b[0;34m:\u001b[0m\u001b[0;34m\u001b[0m\u001b[0;34m\u001b[0m\u001b[0m\n\u001b[1;32m    996\u001b[0m               \u001b[0;32mraise\u001b[0m\u001b[0;34m\u001b[0m\u001b[0;34m\u001b[0m\u001b[0m\n",
            "\u001b[0;31mValueError\u001b[0m: in user code:\n\n    /usr/local/lib/python3.7/dist-packages/keras/engine/training.py:1586 predict_function  *\n        return step_function(self, iterator)\n    /usr/local/lib/python3.7/dist-packages/keras/engine/training.py:1576 step_function  **\n        outputs = model.distribute_strategy.run(run_step, args=(data,))\n    /usr/local/lib/python3.7/dist-packages/tensorflow/python/distribute/distribute_lib.py:1286 run\n        return self._extended.call_for_each_replica(fn, args=args, kwargs=kwargs)\n    /usr/local/lib/python3.7/dist-packages/tensorflow/python/distribute/distribute_lib.py:2849 call_for_each_replica\n        return self._call_for_each_replica(fn, args, kwargs)\n    /usr/local/lib/python3.7/dist-packages/tensorflow/python/distribute/distribute_lib.py:3632 _call_for_each_replica\n        return fn(*args, **kwargs)\n    /usr/local/lib/python3.7/dist-packages/keras/engine/training.py:1569 run_step  **\n        outputs = model.predict_step(data)\n    /usr/local/lib/python3.7/dist-packages/keras/engine/training.py:1537 predict_step\n        return self(x, training=False)\n    /usr/local/lib/python3.7/dist-packages/keras/engine/base_layer.py:1020 __call__\n        input_spec.assert_input_compatibility(self.input_spec, inputs, self.name)\n    /usr/local/lib/python3.7/dist-packages/keras/engine/input_spec.py:269 assert_input_compatibility\n        ', found shape=' + display_shape(x.shape))\n\n    ValueError: Input 0 is incompatible with layer model_30: expected shape=(None, 29), found shape=(None, 30)\n"
          ]
        }
      ]
    },
    {
      "cell_type": "code",
      "metadata": {
        "id": "cbaLf_JUzlTf"
      },
      "source": [
        "conf_matrix = metrics.confusion_matrix(y_test,knn_predicted)\n",
        "\n",
        "ax=plt.subplot()\n",
        "sns.heatmap(conf_matrix,annot=True,ax=ax,fmt='g')#annot=True to annotate cells, fmt='g' numbers not scientific form\n",
        "ax.set_xlabel('Predicted labels'); ax.set_ylabel('True labels')\n",
        "ax.set_title('Confusion Matrix'); \n",
        "ax.xaxis.set_ticklabels(['Normal', 'Fraud']); ax.yaxis.set_ticklabels(['Normal', 'Fraud']);\n",
        "ax.set(yticks=[0, 2], \n",
        "       xticks=[0.5, 1.5])\n",
        "ax.yaxis.set_major_locator(ticker.IndexLocator(base=1, offset=0.5))"
      ],
      "execution_count": null,
      "outputs": []
    }
  ]
}